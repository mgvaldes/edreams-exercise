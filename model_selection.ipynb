{
 "cells": [
  {
   "cell_type": "code",
   "execution_count": 7,
   "metadata": {
    "collapsed": true
   },
   "outputs": [],
   "source": [
    "# Import libraries\n",
    "import pandas as pd\n",
    "import numpy as np\n",
    "import matplotlib.pyplot as plt\n",
    "import seaborn as sns\n",
    "\n",
    "from sklearn.pipeline import Pipeline\n",
    "from sklearn.model_selection import GridSearchCV, cross_val_score, StratifiedKFold\n",
    "from sklearn.linear_model import LogisticRegression\n",
    "from sklearn.metrics import f1_score, roc_auc_score, confusion_matrix\n",
    "from sklearn.feature_selection import VarianceThreshold\n",
    "from sklearn.preprocessing import StandardScaler\n",
    "from sklearn.externals import joblib\n",
    "from sklearn.svm import LinearSVC\n",
    "from sklearn.ensemble import RandomForestClassifier\n",
    "from sklearn.decomposition import PCA\n",
    "from sklearn.feature_selection import RFE"
   ]
  },
  {
   "cell_type": "code",
   "execution_count": 4,
   "metadata": {
    "collapsed": false
   },
   "outputs": [],
   "source": [
    "# Load cleaned data\n",
    "data_type = 'clean_enriched'\n",
    "data = pd.read_csv(data_type + '_train.csv', sep=';', decimal='.')"
   ]
  },
  {
   "cell_type": "code",
   "execution_count": 5,
   "metadata": {
    "collapsed": true
   },
   "outputs": [],
   "source": [
    "# Split data to separate 'y' and 'X'.\n",
    "y = data['EXTRA_BAGGAGE']\n",
    "\n",
    "# Drop target variable from X DataFrame\n",
    "X = data.drop('EXTRA_BAGGAGE', 1)"
   ]
  },
  {
   "cell_type": "code",
   "execution_count": null,
   "metadata": {
    "collapsed": false,
    "scrolled": true
   },
   "outputs": [],
   "source": [
    "# We'll apply nested cross-validation in order to avoid the possible bias of applying \n",
    "# cross-validation combined with grid-search to perform parameter tuning.\n",
    "\n",
    "# We'll use nested cross-validation over several classification methods in order to\n",
    "# obtain their generalization score and choose the one with highest score. After this,\n",
    "# we'll perform a simple cross-validation with grid-search in order to obtain the \n",
    "# best configuration of hyper-parameters for this algorithm. Finally we'll train \n",
    "# the model with all the training data and the hyper-parameter configuration that\n",
    "# yield the best results.\n",
    "\n",
    "# variace: it removes useless variables with variace equal to zero.\n",
    "# scaler: standardizes each column to have mean equal to zero and variance equal to 1, \n",
    "# in order to give same importance to variables with different measurement units.\n",
    "lr_pipe = Pipeline([('variance', VarianceThreshold()),\n",
    "                    ('scaler', StandardScaler()),\n",
    "                    ('lr', LogisticRegression(class_weight='balanced', random_state=621473))])\n",
    "\n",
    "param_grid = dict()\n",
    "param_grid['lr__C'] = [0.001, 0.01, 0.1, 1, 10, 100, 1000]\n",
    "\n",
    "inner_cv = StratifiedKFold(n_splits=10, random_state=975428)\n",
    "outer_cv = StratifiedKFold(n_splits=10, random_state=248733)\n",
    "\n",
    "gs_cv = GridSearchCV(lr_pipe, param_grid=param_grid, n_jobs=-1, scoring='f1_weighted', cv=inner_cv, verbose=10)\n",
    "\n",
    "lr_nested_cv_f1_scores = cross_val_score(gs_cv, X, y, cv=outer_cv, verbose=10)\n",
    "\n",
    "joblib.dump(lr_nested_cv_f1_scores, data_type + '_lr_nested_cv_f1_scores.pkl', compress=1)\n",
    "\n",
    "print(\"##### Generalization F1 Score: mean =\", np.mean(lr_nested_cv_f1_scores), \"std =\", np.std(lr_nested_cv_f1_scores))\n",
    "print()\n",
    "\n",
    "##### Encoded:   Generalization F1 Score: mean = 0.663232566525 std = 0.00577941758843\n",
    "##### Binarized  Generalization F1 Score: mean = 0.662300707325 std = 0.00639698194352\n",
    "##### Enriched:  Generalization F1 Score: mean = 0.668949634197 std = 0.00667454322097\n",
    "##### Enriched2: Generalization F1 Score: mean = 0.668859982719 std = 0.00605384828548"
   ]
  },
  {
   "cell_type": "code",
   "execution_count": 8,
   "metadata": {
    "collapsed": false,
    "scrolled": true
   },
   "outputs": [
    {
     "name": "stdout",
     "output_type": "stream",
     "text": [
      "[CV]  ................................................................\n",
      "Fitting 10 folds for each of 7 candidates, totalling 70 fits\n",
      "[CV] linear_svm__C=0.001 .............................................\n",
      "[CV] linear_svm__C=0.001 .............................................\n",
      "[CV] linear_svm__C=0.001 .............................................\n",
      "[CV] linear_svm__C=0.001 .............................................\n",
      "[CV] .............. linear_svm__C=0.001, score=0.652483, total=   0.5s\n",
      "[CV] linear_svm__C=0.001 .............................................\n",
      "[CV] .............. linear_svm__C=0.001, score=0.658044, total=   0.5s\n",
      "[CV] linear_svm__C=0.001 .............................................\n",
      "[CV] .............. linear_svm__C=0.001, score=0.665109, total=   0.5s\n",
      "[CV] linear_svm__C=0.001 .............................................\n",
      "[CV] .............. linear_svm__C=0.001, score=0.647338, total=   0.5s\n",
      "[CV] linear_svm__C=0.001 .............................................\n",
      "[CV] .............. linear_svm__C=0.001, score=0.656088, total=   0.6s\n",
      "[CV] linear_svm__C=0.001 .............................................\n",
      "[CV] .............. linear_svm__C=0.001, score=0.655072, total=   0.5s\n",
      "[CV] linear_svm__C=0.001 .............................................\n",
      "[CV] .............. linear_svm__C=0.001, score=0.657270, total=   0.6s\n",
      "[CV] linear_svm__C=0.01 ..............................................\n"
     ]
    },
    {
     "name": "stderr",
     "output_type": "stream",
     "text": [
      "[Parallel(n_jobs=-1)]: Done   5 tasks      | elapsed:    1.4s\n"
     ]
    },
    {
     "name": "stdout",
     "output_type": "stream",
     "text": [
      "[CV] .............. linear_svm__C=0.001, score=0.661029, total=   0.5s\n",
      "[CV] linear_svm__C=0.01 ..............................................\n",
      "[CV] .............. linear_svm__C=0.001, score=0.679561, total=   0.9s\n",
      "[CV] .............. linear_svm__C=0.001, score=0.665675, total=   1.0s\n",
      "[CV] linear_svm__C=0.01 ..............................................\n",
      "[CV] linear_svm__C=0.01 ..............................................\n"
     ]
    },
    {
     "name": "stderr",
     "output_type": "stream",
     "text": [
      "[Parallel(n_jobs=-1)]: Done  10 tasks      | elapsed:    2.7s\n"
     ]
    },
    {
     "name": "stdout",
     "output_type": "stream",
     "text": [
      "[CV] ............... linear_svm__C=0.01, score=0.667331, total=   0.8s\n",
      "[CV] linear_svm__C=0.01 ..............................................\n",
      "[CV] ............... linear_svm__C=0.01, score=0.663814, total=   2.7s\n",
      "[CV] linear_svm__C=0.01 ..............................................\n",
      "[CV] ............... linear_svm__C=0.01, score=0.663101, total=   3.4s\n",
      "[CV] linear_svm__C=0.01 ..............................................\n",
      "[CV] ............... linear_svm__C=0.01, score=0.662749, total=   3.0s\n",
      "[CV] linear_svm__C=0.01 ..............................................\n",
      "[CV] ............... linear_svm__C=0.01, score=0.666173, total=   2.0s\n",
      "[CV] linear_svm__C=0.01 ..............................................\n",
      "[CV] ............... linear_svm__C=0.01, score=0.664498, total=   1.9s\n",
      "[CV] linear_svm__C=0.01 ..............................................\n",
      "[CV] ............... linear_svm__C=0.01, score=0.669488, total=   3.0s\n",
      "[CV] linear_svm__C=0.1 ...............................................\n"
     ]
    },
    {
     "name": "stderr",
     "output_type": "stream",
     "text": [
      "[Parallel(n_jobs=-1)]: Done  17 tasks      | elapsed:    7.6s\n"
     ]
    },
    {
     "name": "stdout",
     "output_type": "stream",
     "text": [
      "[CV] ............... linear_svm__C=0.01, score=0.668964, total=   2.7s\n",
      "[CV] linear_svm__C=0.1 ...............................................\n",
      "[CV] ............... linear_svm__C=0.01, score=0.666423, total=   3.0s\n",
      "[CV] linear_svm__C=0.1 ...............................................\n",
      "[CV] ............... linear_svm__C=0.01, score=0.684181, total=   2.7s\n",
      "[CV] linear_svm__C=0.1 ...............................................\n",
      "[CV] ................ linear_svm__C=0.1, score=0.665588, total=   3.4s\n",
      "[CV] linear_svm__C=0.1 ...............................................\n",
      "[CV] ................ linear_svm__C=0.1, score=0.671464, total=   3.3s\n",
      "[CV] linear_svm__C=0.1 ...............................................\n",
      "[CV] ................ linear_svm__C=0.1, score=0.665258, total=   4.2s\n",
      "[CV] linear_svm__C=0.1 ...............................................\n",
      "[CV] ................ linear_svm__C=0.1, score=0.661700, total=   3.4s\n",
      "[CV] linear_svm__C=0.1 ...............................................\n"
     ]
    },
    {
     "name": "stderr",
     "output_type": "stream",
     "text": [
      "[Parallel(n_jobs=-1)]: Done  24 tasks      | elapsed:   13.8s\n"
     ]
    },
    {
     "name": "stdout",
     "output_type": "stream",
     "text": [
      "[CV] ................ linear_svm__C=0.1, score=0.667558, total=   3.4s\n",
      "[CV] linear_svm__C=0.1 ...............................................\n",
      "[CV] ................ linear_svm__C=0.1, score=0.673057, total=   3.3s\n",
      "[CV] linear_svm__C=0.1 ...............................................\n",
      "[CV] ................ linear_svm__C=0.1, score=0.661319, total=   3.5s\n",
      "[CV] linear_svm__C=1 .................................................\n",
      "[CV] ................ linear_svm__C=0.1, score=0.665445, total=   3.2s\n",
      "[CV] linear_svm__C=1 .................................................\n",
      "[CV] ................ linear_svm__C=0.1, score=0.672476, total=   3.1s\n",
      "[CV] linear_svm__C=1 .................................................\n",
      "[CV] ................ linear_svm__C=0.1, score=0.686170, total=   4.0s\n",
      "[CV] linear_svm__C=1 .................................................\n",
      "[CV] .................. linear_svm__C=1, score=0.665588, total=   3.7s\n",
      "[CV] linear_svm__C=1 .................................................\n",
      "[CV] .................. linear_svm__C=1, score=0.671852, total=   3.2s\n",
      "[CV] linear_svm__C=1 .................................................\n",
      "[CV] .................. linear_svm__C=1, score=0.665650, total=   4.8s\n",
      "[CV] linear_svm__C=1 .................................................\n"
     ]
    },
    {
     "name": "stderr",
     "output_type": "stream",
     "text": [
      "[Parallel(n_jobs=-1)]: Done  33 tasks      | elapsed:   22.3s\n"
     ]
    },
    {
     "name": "stdout",
     "output_type": "stream",
     "text": [
      "[CV] .................. linear_svm__C=1, score=0.661700, total=   3.5s\n",
      "[CV] linear_svm__C=1 .................................................\n",
      "[CV] .................. linear_svm__C=1, score=0.666967, total=   3.7s\n",
      "[CV] linear_svm__C=1 .................................................\n",
      "[CV] .................. linear_svm__C=1, score=0.673057, total=   3.5s\n",
      "[CV] linear_svm__C=1 .................................................\n",
      "[CV] .................. linear_svm__C=1, score=0.660730, total=   3.7s\n",
      "[CV] linear_svm__C=10 ................................................\n",
      "[CV] .................. linear_svm__C=1, score=0.665454, total=   3.4s\n",
      "[CV] linear_svm__C=10 ................................................\n",
      "[CV] .................. linear_svm__C=1, score=0.672683, total=   3.4s\n",
      "[CV] linear_svm__C=10 ................................................\n",
      "[CV] .................. linear_svm__C=1, score=0.685784, total=   4.0s\n",
      "[CV] linear_svm__C=10 ................................................\n",
      "[CV] ................. linear_svm__C=10, score=0.665782, total=   3.4s\n",
      "[CV] linear_svm__C=10 ................................................\n",
      "[CV] ................. linear_svm__C=10, score=0.665454, total=   3.4s\n",
      "[CV] linear_svm__C=10 ................................................\n"
     ]
    },
    {
     "name": "stderr",
     "output_type": "stream",
     "text": [
      "[Parallel(n_jobs=-1)]: Done  42 tasks      | elapsed:   30.9s\n"
     ]
    },
    {
     "name": "stdout",
     "output_type": "stream",
     "text": [
      "[CV] ................. linear_svm__C=10, score=0.672047, total=   3.4s\n",
      "[CV] linear_svm__C=10 ................................................\n",
      "[CV] ................. linear_svm__C=10, score=0.661700, total=   3.8s\n",
      "[CV] linear_svm__C=10 ................................................\n",
      "[CV] ................. linear_svm__C=10, score=0.666770, total=   3.6s\n",
      "[CV] linear_svm__C=10 ................................................\n",
      "[CV] ................. linear_svm__C=10, score=0.673057, total=   3.5s\n",
      "[CV] linear_svm__C=10 ................................................\n",
      "[CV] ................. linear_svm__C=10, score=0.660730, total=   3.4s\n",
      "[CV] linear_svm__C=100 ...............................................\n",
      "[CV] ................. linear_svm__C=10, score=0.665454, total=   3.2s\n",
      "[CV] linear_svm__C=100 ...............................................\n",
      "[CV] ................. linear_svm__C=10, score=0.672683, total=   3.6s\n",
      "[CV] linear_svm__C=100 ...............................................\n",
      "[CV] ................. linear_svm__C=10, score=0.685784, total=   3.6s\n",
      "[CV] linear_svm__C=100 ...............................................\n",
      "[CV] ................ linear_svm__C=100, score=0.665782, total=   3.7s\n",
      "[CV] linear_svm__C=100 ...............................................\n",
      "[CV] ................ linear_svm__C=100, score=0.665454, total=   3.3s\n",
      "[CV] linear_svm__C=100 ...............................................\n",
      "[CV] ................ linear_svm__C=100, score=0.672047, total=   3.2s\n",
      "[CV] linear_svm__C=100 ...............................................\n"
     ]
    },
    {
     "name": "stderr",
     "output_type": "stream",
     "text": [
      "[Parallel(n_jobs=-1)]: Done  53 tasks      | elapsed:   40.5s\n"
     ]
    },
    {
     "name": "stdout",
     "output_type": "stream",
     "text": [
      "[CV] ................ linear_svm__C=100, score=0.661700, total=   3.6s\n",
      "[CV] linear_svm__C=100 ...............................................\n",
      "[CV] ................ linear_svm__C=100, score=0.666770, total=   3.3s\n",
      "[CV] linear_svm__C=100 ...............................................\n",
      "[CV] ................ linear_svm__C=100, score=0.673057, total=   3.4s\n",
      "[CV] linear_svm__C=100 ...............................................\n",
      "[CV] ................ linear_svm__C=100, score=0.660730, total=   3.4s\n",
      "[CV] linear_svm__C=1000 ..............................................\n",
      "[CV] ................ linear_svm__C=100, score=0.665454, total=   3.8s\n",
      "[CV] linear_svm__C=1000 ..............................................\n",
      "[CV] ................ linear_svm__C=100, score=0.672683, total=   3.7s\n",
      "[CV] linear_svm__C=1000 ..............................................\n",
      "[CV] ................ linear_svm__C=100, score=0.685784, total=   3.8s\n",
      "[CV] linear_svm__C=1000 ..............................................\n",
      "[CV] ............... linear_svm__C=1000, score=0.665782, total=   3.8s\n",
      "[CV] linear_svm__C=1000 ..............................................\n",
      "[CV] ............... linear_svm__C=1000, score=0.665454, total=   3.6s\n",
      "[CV] linear_svm__C=1000 ..............................................\n",
      "[CV] ............... linear_svm__C=1000, score=0.672047, total=   3.5s\n",
      "[CV] linear_svm__C=1000 ..............................................\n",
      "[CV] ............... linear_svm__C=1000, score=0.661700, total=   3.1s\n",
      "[CV] linear_svm__C=1000 ..............................................\n",
      "[CV] ............... linear_svm__C=1000, score=0.666770, total=   3.1s\n",
      "[CV] linear_svm__C=1000 ..............................................\n",
      "[CV] ............... linear_svm__C=1000, score=0.673057, total=   3.4s\n",
      "[CV] linear_svm__C=1000 ..............................................\n",
      "[CV] ............... linear_svm__C=1000, score=0.660730, total=   3.6s\n",
      "[CV] ............... linear_svm__C=1000, score=0.672683, total=   3.4s\n",
      "[CV] ............... linear_svm__C=1000, score=0.665454, total=   3.6s\n",
      "[CV] ............... linear_svm__C=1000, score=0.685784, total=   2.2s\n"
     ]
    },
    {
     "name": "stderr",
     "output_type": "stream",
     "text": [
      "[Parallel(n_jobs=-1)]: Done  70 out of  70 | elapsed:   55.6s finished\n"
     ]
    },
    {
     "name": "stdout",
     "output_type": "stream",
     "text": [
      "[CV] ................................. , score=0.660456, total=  57.1s\n",
      "[CV]  ................................................................\n",
      "Fitting 10 folds for each of 7 candidates, totalling 70 fits\n"
     ]
    },
    {
     "name": "stderr",
     "output_type": "stream",
     "text": [
      "[Parallel(n_jobs=1)]: Done   1 out of   1 | elapsed:   57.1s remaining:    0.0s\n"
     ]
    },
    {
     "name": "stdout",
     "output_type": "stream",
     "text": [
      "[CV] linear_svm__C=0.001 .............................................\n",
      "[CV] linear_svm__C=0.001 .............................................\n",
      "[CV] linear_svm__C=0.001 .............................................\n",
      "[CV] linear_svm__C=0.001 .............................................\n",
      "[CV] .............. linear_svm__C=0.001, score=0.662184, total=   0.5s\n",
      "[CV] linear_svm__C=0.001 .............................................\n",
      "[CV] .............. linear_svm__C=0.001, score=0.655572, total=   0.5s\n",
      "[CV] linear_svm__C=0.001 .............................................\n",
      "[CV] .............. linear_svm__C=0.001, score=0.649890, total=   0.5s\n",
      "[CV] linear_svm__C=0.001 .............................................\n",
      "[CV] .............. linear_svm__C=0.001, score=0.645400, total=   0.5s\n",
      "[CV] linear_svm__C=0.001 .............................................\n",
      "[CV] .............. linear_svm__C=0.001, score=0.650683, total=   0.5s\n",
      "[CV] linear_svm__C=0.001 .............................................\n",
      "[CV] .............. linear_svm__C=0.001, score=0.656080, total=   0.5s\n",
      "[CV] linear_svm__C=0.001 .............................................\n"
     ]
    },
    {
     "name": "stderr",
     "output_type": "stream",
     "text": [
      "[Parallel(n_jobs=-1)]: Done   5 tasks      | elapsed:    1.3s\n"
     ]
    },
    {
     "name": "stdout",
     "output_type": "stream",
     "text": [
      "[CV] .............. linear_svm__C=0.001, score=0.655864, total=   0.5s\n",
      "[CV] linear_svm__C=0.01 ..............................................\n",
      "[CV] .............. linear_svm__C=0.001, score=0.650090, total=   0.6s\n",
      "[CV] linear_svm__C=0.01 ..............................................\n",
      "[CV] .............. linear_svm__C=0.001, score=0.663354, total=   0.6s\n",
      "[CV] linear_svm__C=0.01 ..............................................\n",
      "[CV] .............. linear_svm__C=0.001, score=0.675647, total=   0.7s\n",
      "[CV] linear_svm__C=0.01 ..............................................\n"
     ]
    },
    {
     "name": "stderr",
     "output_type": "stream",
     "text": [
      "[Parallel(n_jobs=-1)]: Done  10 tasks      | elapsed:    2.2s\n"
     ]
    },
    {
     "name": "stdout",
     "output_type": "stream",
     "text": [
      "[CV] ............... linear_svm__C=0.01, score=0.667567, total=   0.5s\n",
      "[CV] linear_svm__C=0.01 ..............................................\n",
      "[CV] ............... linear_svm__C=0.01, score=0.664590, total=   0.7s\n",
      "[CV] ............... linear_svm__C=0.01, score=0.660566, total=   1.3s\n",
      "[CV] linear_svm__C=0.01 ..............................................\n",
      "[CV] linear_svm__C=0.01 ..............................................\n",
      "[CV] ............... linear_svm__C=0.01, score=0.661791, total=   2.0s\n",
      "[CV] linear_svm__C=0.01 ..............................................\n",
      "[CV] ............... linear_svm__C=0.01, score=0.661123, total=   2.0s\n",
      "[CV] linear_svm__C=0.01 ..............................................\n",
      "[CV] ............... linear_svm__C=0.01, score=0.661957, total=   1.0s\n",
      "[CV] ............... linear_svm__C=0.01, score=0.669195, total=   0.8s\n",
      "[CV] linear_svm__C=0.01 ..............................................\n",
      "[CV] linear_svm__C=0.1 ...............................................\n"
     ]
    },
    {
     "name": "stderr",
     "output_type": "stream",
     "text": [
      "[Parallel(n_jobs=-1)]: Done  17 tasks      | elapsed:    4.8s\n"
     ]
    },
    {
     "name": "stdout",
     "output_type": "stream",
     "text": [
      "[CV] ............... linear_svm__C=0.01, score=0.668521, total=   2.0s\n",
      "[CV] linear_svm__C=0.1 ...............................................\n",
      "[CV] ............... linear_svm__C=0.01, score=0.664662, total=   2.4s\n",
      "[CV] linear_svm__C=0.1 ...............................................\n",
      "[CV] ............... linear_svm__C=0.01, score=0.682454, total=   1.8s\n",
      "[CV] linear_svm__C=0.1 ...............................................\n",
      "[CV] ................ linear_svm__C=0.1, score=0.660810, total=   3.4s\n",
      "[CV] linear_svm__C=0.1 ...............................................\n",
      "[CV] ................ linear_svm__C=0.1, score=0.663461, total=   3.1s\n",
      "[CV] linear_svm__C=0.1 ...............................................\n",
      "[CV] ................ linear_svm__C=0.1, score=0.662087, total=   3.0s\n",
      "[CV] linear_svm__C=0.1 ...............................................\n",
      "[CV] ................ linear_svm__C=0.1, score=0.670045, total=   3.5s\n",
      "[CV] linear_svm__C=0.1 ...............................................\n"
     ]
    },
    {
     "name": "stderr",
     "output_type": "stream",
     "text": [
      "[Parallel(n_jobs=-1)]: Done  24 tasks      | elapsed:    9.9s\n"
     ]
    },
    {
     "name": "stdout",
     "output_type": "stream",
     "text": [
      "[CV] ................ linear_svm__C=0.1, score=0.665810, total=   3.2s\n",
      "[CV] linear_svm__C=0.1 ...............................................\n",
      "[CV] ................ linear_svm__C=0.1, score=0.670303, total=   3.7s\n",
      "[CV] linear_svm__C=0.1 ...............................................\n",
      "[CV] ................ linear_svm__C=0.1, score=0.660737, total=   3.3s\n",
      "[CV] linear_svm__C=1 .................................................\n",
      "[CV] ................ linear_svm__C=0.1, score=0.663861, total=   3.7s\n",
      "[CV] linear_svm__C=1 .................................................\n",
      "[CV] ................ linear_svm__C=0.1, score=0.669996, total=   3.5s\n",
      "[CV] linear_svm__C=1 .................................................\n",
      "[CV] ................ linear_svm__C=0.1, score=0.683916, total=   3.5s\n",
      "[CV] linear_svm__C=1 .................................................\n",
      "[CV] .................. linear_svm__C=1, score=0.659827, total=   3.4s\n",
      "[CV] linear_svm__C=1 .................................................\n",
      "[CV] .................. linear_svm__C=1, score=0.663461, total=   3.6s\n",
      "[CV] linear_svm__C=1 .................................................\n",
      "[CV] .................. linear_svm__C=1, score=0.670251, total=   3.1s\n",
      "[CV] linear_svm__C=1 .................................................\n"
     ]
    },
    {
     "name": "stderr",
     "output_type": "stream",
     "text": [
      "[Parallel(n_jobs=-1)]: Done  33 tasks      | elapsed:   18.9s\n"
     ]
    },
    {
     "name": "stdout",
     "output_type": "stream",
     "text": [
      "[CV] .................. linear_svm__C=1, score=0.666398, total=   3.3s\n",
      "[CV] linear_svm__C=1 .................................................\n",
      "[CV] .................. linear_svm__C=1, score=0.661700, total=   3.5s\n",
      "[CV] linear_svm__C=1 .................................................\n",
      "[CV] .................. linear_svm__C=1, score=0.671088, total=   3.5s\n",
      "[CV] linear_svm__C=1 .................................................\n",
      "[CV] .................. linear_svm__C=1, score=0.660519, total=   3.0s\n",
      "[CV] linear_svm__C=10 ................................................\n",
      "[CV] .................. linear_svm__C=1, score=0.664245, total=   3.4s\n",
      "[CV] linear_svm__C=10 ................................................\n",
      "[CV] .................. linear_svm__C=1, score=0.669996, total=   3.3s\n",
      "[CV] linear_svm__C=10 ................................................\n",
      "[CV] .................. linear_svm__C=1, score=0.683709, total=   3.6s\n",
      "[CV] linear_svm__C=10 ................................................\n",
      "[CV] ................. linear_svm__C=10, score=0.659827, total=   3.4s\n",
      "[CV] linear_svm__C=10 ................................................\n",
      "[CV] ................. linear_svm__C=10, score=0.670251, total=   2.9s\n",
      "[CV] linear_svm__C=10 ................................................\n"
     ]
    },
    {
     "name": "stderr",
     "output_type": "stream",
     "text": [
      "[Parallel(n_jobs=-1)]: Done  42 tasks      | elapsed:   26.8s\n"
     ]
    },
    {
     "name": "stdout",
     "output_type": "stream",
     "text": [
      "[CV] ................. linear_svm__C=10, score=0.663461, total=   3.5s\n",
      "[CV] linear_svm__C=10 ................................................\n",
      "[CV] ................. linear_svm__C=10, score=0.662087, total=   3.5s\n",
      "[CV] linear_svm__C=10 ................................................\n",
      "[CV] ................. linear_svm__C=10, score=0.666195, total=   3.4s\n",
      "[CV] linear_svm__C=10 ................................................\n",
      "[CV] ................. linear_svm__C=10, score=0.671088, total=   3.3s\n",
      "[CV] linear_svm__C=10 ................................................\n",
      "[CV] ................. linear_svm__C=10, score=0.660519, total=   3.0s\n",
      "[CV] linear_svm__C=100 ...............................................\n",
      "[CV] ................. linear_svm__C=10, score=0.664245, total=   3.1s\n",
      "[CV] linear_svm__C=100 ...............................................\n",
      "[CV] ................. linear_svm__C=10, score=0.669996, total=   3.0s\n",
      "[CV] linear_svm__C=100 ...............................................\n",
      "[CV] ................. linear_svm__C=10, score=0.683709, total=   3.4s\n",
      "[CV] linear_svm__C=100 ...............................................\n",
      "[CV] ................ linear_svm__C=100, score=0.659827, total=   3.3s\n",
      "[CV] linear_svm__C=100 ...............................................\n",
      "[CV] ................ linear_svm__C=100, score=0.663461, total=   3.6s\n",
      "[CV] linear_svm__C=100 ...............................................\n",
      "[CV] ................ linear_svm__C=100, score=0.670251, total=   3.2s\n",
      "[CV] linear_svm__C=100 ...............................................\n"
     ]
    },
    {
     "name": "stderr",
     "output_type": "stream",
     "text": [
      "[Parallel(n_jobs=-1)]: Done  53 tasks      | elapsed:   35.6s\n"
     ]
    },
    {
     "name": "stdout",
     "output_type": "stream",
     "text": [
      "[CV] ................ linear_svm__C=100, score=0.666195, total=   3.0s\n",
      "[CV] linear_svm__C=100 ...............................................\n",
      "[CV] ................ linear_svm__C=100, score=0.662087, total=   3.3s\n",
      "[CV] linear_svm__C=100 ...............................................\n",
      "[CV] ................ linear_svm__C=100, score=0.671088, total=   3.2s\n",
      "[CV] linear_svm__C=100 ...............................................\n",
      "[CV] ................ linear_svm__C=100, score=0.660519, total=   3.3s\n",
      "[CV] linear_svm__C=1000 ..............................................\n",
      "[CV] ................ linear_svm__C=100, score=0.664049, total=   3.2s\n",
      "[CV] linear_svm__C=1000 ..............................................\n",
      "[CV] ................ linear_svm__C=100, score=0.669996, total=   3.2s\n",
      "[CV] linear_svm__C=1000 ..............................................\n",
      "[CV] ................ linear_svm__C=100, score=0.683709, total=   3.3s\n",
      "[CV] linear_svm__C=1000 ..............................................\n",
      "[CV] ............... linear_svm__C=1000, score=0.659827, total=   3.2s\n",
      "[CV] linear_svm__C=1000 ..............................................\n",
      "[CV] ............... linear_svm__C=1000, score=0.663461, total=   3.3s\n",
      "[CV] linear_svm__C=1000 ..............................................\n",
      "[CV] ............... linear_svm__C=1000, score=0.670251, total=   3.3s\n",
      "[CV] linear_svm__C=1000 ..............................................\n",
      "[CV] ............... linear_svm__C=1000, score=0.662087, total=   3.3s\n",
      "[CV] linear_svm__C=1000 ..............................................\n",
      "[CV] ............... linear_svm__C=1000, score=0.666195, total=   3.4s\n",
      "[CV] linear_svm__C=1000 ..............................................\n",
      "[CV] ............... linear_svm__C=1000, score=0.671088, total=   3.1s\n",
      "[CV] linear_svm__C=1000 ..............................................\n",
      "[CV] ............... linear_svm__C=1000, score=0.660519, total=   3.7s\n",
      "[CV] ............... linear_svm__C=1000, score=0.664049, total=   3.0s\n",
      "[CV] ............... linear_svm__C=1000, score=0.669996, total=   2.9s\n",
      "[CV] ............... linear_svm__C=1000, score=0.683709, total=   2.2s\n"
     ]
    },
    {
     "name": "stderr",
     "output_type": "stream",
     "text": [
      "[Parallel(n_jobs=-1)]: Done  70 out of  70 | elapsed:   49.5s finished\n"
     ]
    },
    {
     "name": "stdout",
     "output_type": "stream",
     "text": [
      "[CV] ................................. , score=0.665681, total=  51.2s\n",
      "[CV]  ................................................................\n",
      "Fitting 10 folds for each of 7 candidates, totalling 70 fits\n"
     ]
    },
    {
     "name": "stderr",
     "output_type": "stream",
     "text": [
      "[Parallel(n_jobs=1)]: Done   2 out of   2 | elapsed:  1.8min remaining:    0.0s\n"
     ]
    },
    {
     "name": "stdout",
     "output_type": "stream",
     "text": [
      "[CV] linear_svm__C=0.001 .............................................\n",
      "[CV] linear_svm__C=0.001 .............................................\n",
      "[CV] linear_svm__C=0.001 .............................................\n",
      "[CV] linear_svm__C=0.001 .............................................\n",
      "[CV] .............. linear_svm__C=0.001, score=0.647860, total=   0.5s\n",
      "[CV] .............. linear_svm__C=0.001, score=0.665360, total=   0.5s\n",
      "[CV] linear_svm__C=0.001 .............................................\n",
      "[CV] .............. linear_svm__C=0.001, score=0.654969, total=   0.5s\n",
      "[CV] linear_svm__C=0.001 .............................................\n",
      "[CV] linear_svm__C=0.001 .............................................\n",
      "[CV] .............. linear_svm__C=0.001, score=0.646189, total=   0.7s\n",
      "[CV] linear_svm__C=0.001 .............................................\n",
      "[CV] .............. linear_svm__C=0.001, score=0.650889, total=   0.4s\n",
      "[CV] .............. linear_svm__C=0.001, score=0.657874, total=   0.6s\n",
      "[CV] linear_svm__C=0.001 .............................................\n",
      "[CV] linear_svm__C=0.001 .............................................\n",
      "[CV] .............. linear_svm__C=0.001, score=0.650882, total=   0.6s\n",
      "[CV] linear_svm__C=0.01 ..............................................\n"
     ]
    },
    {
     "name": "stderr",
     "output_type": "stream",
     "text": [
      "[Parallel(n_jobs=-1)]: Done   5 tasks      | elapsed:    1.4s\n"
     ]
    },
    {
     "name": "stdout",
     "output_type": "stream",
     "text": [
      "[CV] .............. linear_svm__C=0.001, score=0.657067, total=   0.6s\n",
      "[CV] linear_svm__C=0.01 ..............................................\n",
      "[CV] .............. linear_svm__C=0.001, score=0.676030, total=   0.5s\n",
      "[CV] linear_svm__C=0.01 ..............................................\n",
      "[CV] .............. linear_svm__C=0.001, score=0.661766, total=   0.7s\n",
      "[CV] linear_svm__C=0.01 ..............................................\n"
     ]
    },
    {
     "name": "stderr",
     "output_type": "stream",
     "text": [
      "[Parallel(n_jobs=-1)]: Done  10 tasks      | elapsed:    2.3s\n"
     ]
    },
    {
     "name": "stdout",
     "output_type": "stream",
     "text": [
      "[CV] ............... linear_svm__C=0.01, score=0.671940, total=   0.7s\n",
      "[CV] linear_svm__C=0.01 ..............................................\n",
      "[CV] ............... linear_svm__C=0.01, score=0.657271, total=   2.3s\n",
      "[CV] linear_svm__C=0.01 ..............................................\n",
      "[CV] ............... linear_svm__C=0.01, score=0.661202, total=   3.0s\n",
      "[CV] linear_svm__C=0.01 ..............................................\n",
      "[CV] ............... linear_svm__C=0.01, score=0.659183, total=   2.8s\n",
      "[CV] linear_svm__C=0.01 ..............................................\n",
      "[CV] ............... linear_svm__C=0.01, score=0.664803, total=   2.4s\n",
      "[CV] linear_svm__C=0.01 ..............................................\n",
      "[CV] ............... linear_svm__C=0.01, score=0.670135, total=   2.4s\n",
      "[CV] linear_svm__C=0.01 ..............................................\n",
      "[CV] ............... linear_svm__C=0.01, score=0.661169, total=   2.6s\n",
      "[CV] linear_svm__C=0.1 ...............................................\n"
     ]
    },
    {
     "name": "stderr",
     "output_type": "stream",
     "text": [
      "[Parallel(n_jobs=-1)]: Done  17 tasks      | elapsed:    7.6s\n"
     ]
    },
    {
     "name": "stdout",
     "output_type": "stream",
     "text": [
      "[CV] ............... linear_svm__C=0.01, score=0.664874, total=   2.6s\n",
      "[CV] linear_svm__C=0.1 ...............................................\n",
      "[CV] ............... linear_svm__C=0.01, score=0.667630, total=   2.5s\n",
      "[CV] linear_svm__C=0.1 ...............................................\n",
      "[CV] ............... linear_svm__C=0.01, score=0.684444, total=   2.7s\n",
      "[CV] linear_svm__C=0.1 ...............................................\n",
      "[CV] ................ linear_svm__C=0.1, score=0.660220, total=   3.8s\n",
      "[CV] linear_svm__C=0.1 ...............................................\n",
      "[CV] ................ linear_svm__C=0.1, score=0.673042, total=   3.4s\n",
      "[CV] linear_svm__C=0.1 ...............................................\n",
      "[CV] ................ linear_svm__C=0.1, score=0.660411, total=   3.8s\n",
      "[CV] linear_svm__C=0.1 ...............................................\n",
      "[CV] ................ linear_svm__C=0.1, score=0.662929, total=   4.0s\n",
      "[CV] linear_svm__C=0.1 ...............................................\n"
     ]
    },
    {
     "name": "stderr",
     "output_type": "stream",
     "text": [
      "[Parallel(n_jobs=-1)]: Done  24 tasks      | elapsed:   13.8s\n"
     ]
    },
    {
     "name": "stdout",
     "output_type": "stream",
     "text": [
      "[CV] ................ linear_svm__C=0.1, score=0.663420, total=   3.3s\n",
      "[CV] linear_svm__C=0.1 ...............................................\n",
      "[CV] ................ linear_svm__C=0.1, score=0.660919, total=   3.2s\n",
      "[CV] linear_svm__C=0.1 ...............................................\n",
      "[CV] ................ linear_svm__C=0.1, score=0.670711, total=   3.4s\n",
      "[CV] linear_svm__C=1 .................................................\n",
      "[CV] ................ linear_svm__C=0.1, score=0.663649, total=   3.5s\n",
      "[CV] linear_svm__C=1 .................................................\n",
      "[CV] ................ linear_svm__C=0.1, score=0.670178, total=   3.2s\n",
      "[CV] linear_svm__C=1 .................................................\n",
      "[CV] .................. linear_svm__C=1, score=0.660227, total=   3.6s\n",
      "[CV] linear_svm__C=1 .................................................\n",
      "[CV] ................ linear_svm__C=0.1, score=0.683528, total=   3.8s\n",
      "[CV] linear_svm__C=1 .................................................\n",
      "[CV] .................. linear_svm__C=1, score=0.660811, total=   4.0s\n",
      "[CV] linear_svm__C=1 .................................................\n",
      "[CV] .................. linear_svm__C=1, score=0.673443, total=   4.2s\n",
      "[CV] linear_svm__C=1 .................................................\n"
     ]
    },
    {
     "name": "stderr",
     "output_type": "stream",
     "text": [
      "[Parallel(n_jobs=-1)]: Done  33 tasks      | elapsed:   22.8s\n"
     ]
    },
    {
     "name": "stdout",
     "output_type": "stream",
     "text": [
      "[CV] .................. linear_svm__C=1, score=0.662101, total=   4.2s\n",
      "[CV] linear_svm__C=1 .................................................\n",
      "[CV] .................. linear_svm__C=1, score=0.664017, total=   4.3s\n",
      "[CV] linear_svm__C=1 .................................................\n",
      "[CV] .................. linear_svm__C=1, score=0.670492, total=   3.9s\n",
      "[CV] linear_svm__C=1 .................................................\n",
      "[CV] .................. linear_svm__C=1, score=0.661108, total=   4.1s\n",
      "[CV] linear_svm__C=10 ................................................\n",
      "[CV] .................. linear_svm__C=1, score=0.663666, total=   4.3s\n",
      "[CV] linear_svm__C=10 ................................................\n",
      "[CV] .................. linear_svm__C=1, score=0.670760, total=   4.3s\n",
      "[CV] linear_svm__C=10 ................................................\n",
      "[CV] .................. linear_svm__C=1, score=0.684691, total=   4.1s\n",
      "[CV] linear_svm__C=10 ................................................\n",
      "[CV] ................. linear_svm__C=10, score=0.660227, total=   3.9s\n",
      "[CV] linear_svm__C=10 ................................................\n",
      "[CV] ................. linear_svm__C=10, score=0.673443, total=   3.4s\n",
      "[CV] linear_svm__C=10 ................................................\n",
      "[CV] ................. linear_svm__C=10, score=0.660811, total=   3.7s\n",
      "[CV] linear_svm__C=10 ................................................\n"
     ]
    },
    {
     "name": "stderr",
     "output_type": "stream",
     "text": [
      "[Parallel(n_jobs=-1)]: Done  42 tasks      | elapsed:   32.0s\n"
     ]
    },
    {
     "name": "stdout",
     "output_type": "stream",
     "text": [
      "[CV] ................. linear_svm__C=10, score=0.662101, total=   3.2s\n",
      "[CV] linear_svm__C=10 ................................................\n",
      "[CV] ................. linear_svm__C=10, score=0.664017, total=   3.0s\n",
      "[CV] linear_svm__C=10 ................................................\n",
      "[CV] ................. linear_svm__C=10, score=0.661508, total=   3.1s\n",
      "[CV] linear_svm__C=10 ................................................\n",
      "[CV] ................. linear_svm__C=10, score=0.670696, total=   3.5s\n",
      "[CV] linear_svm__C=100 ...............................................\n",
      "[CV] ................. linear_svm__C=10, score=0.663666, total=   3.5s\n",
      "[CV] linear_svm__C=100 ...............................................\n",
      "[CV] ................. linear_svm__C=10, score=0.670760, total=   3.1s\n",
      "[CV] linear_svm__C=100 ...............................................\n",
      "[CV] ................. linear_svm__C=10, score=0.684691, total=   4.2s\n",
      "[CV] linear_svm__C=100 ...............................................\n",
      "[CV] ................ linear_svm__C=100, score=0.660227, total=   4.1s\n",
      "[CV] linear_svm__C=100 ...............................................\n",
      "[CV] ................ linear_svm__C=100, score=0.660616, total=   4.3s\n",
      "[CV] linear_svm__C=100 ...............................................\n",
      "[CV] ................ linear_svm__C=100, score=0.673443, total=   4.3s\n",
      "[CV] linear_svm__C=100 ...............................................\n"
     ]
    },
    {
     "name": "stderr",
     "output_type": "stream",
     "text": [
      "[Parallel(n_jobs=-1)]: Done  53 tasks      | elapsed:   41.9s\n"
     ]
    },
    {
     "name": "stdout",
     "output_type": "stream",
     "text": [
      "[CV] ................ linear_svm__C=100, score=0.664017, total=   3.7s\n",
      "[CV] linear_svm__C=100 ...............................................\n",
      "[CV] ................ linear_svm__C=100, score=0.661908, total=   3.9s\n",
      "[CV] linear_svm__C=100 ...............................................\n",
      "[CV] ................ linear_svm__C=100, score=0.670696, total=   3.6s\n",
      "[CV] linear_svm__C=100 ...............................................\n",
      "[CV] ................ linear_svm__C=100, score=0.661508, total=   3.5s\n",
      "[CV] linear_svm__C=1000 ..............................................\n",
      "[CV] ................ linear_svm__C=100, score=0.663666, total=   3.4s\n",
      "[CV] linear_svm__C=1000 ..............................................\n",
      "[CV] ................ linear_svm__C=100, score=0.670760, total=   3.6s\n",
      "[CV] linear_svm__C=1000 ..............................................\n",
      "[CV] ................ linear_svm__C=100, score=0.684691, total=   3.6s\n",
      "[CV] linear_svm__C=1000 ..............................................\n",
      "[CV] ............... linear_svm__C=1000, score=0.660227, total=   3.5s\n",
      "[CV] linear_svm__C=1000 ..............................................\n",
      "[CV] ............... linear_svm__C=1000, score=0.660616, total=   3.5s\n",
      "[CV] linear_svm__C=1000 ..............................................\n",
      "[CV] ............... linear_svm__C=1000, score=0.673443, total=   3.5s\n",
      "[CV] linear_svm__C=1000 ..............................................\n",
      "[CV] ............... linear_svm__C=1000, score=0.661908, total=   4.2s\n",
      "[CV] linear_svm__C=1000 ..............................................\n",
      "[CV] ............... linear_svm__C=1000, score=0.664017, total=   4.0s\n",
      "[CV] linear_svm__C=1000 ..............................................\n",
      "[CV] ............... linear_svm__C=1000, score=0.670696, total=   3.3s\n",
      "[CV] linear_svm__C=1000 ..............................................\n",
      "[CV] ............... linear_svm__C=1000, score=0.661508, total=   3.3s\n",
      "[CV] ............... linear_svm__C=1000, score=0.663666, total=   2.7s\n",
      "[CV] ............... linear_svm__C=1000, score=0.670760, total=   2.5s\n",
      "[CV] ............... linear_svm__C=1000, score=0.684691, total=   2.2s\n"
     ]
    },
    {
     "name": "stderr",
     "output_type": "stream",
     "text": [
      "[Parallel(n_jobs=-1)]: Done  70 out of  70 | elapsed:   56.5s finished\n"
     ]
    },
    {
     "name": "stdout",
     "output_type": "stream",
     "text": [
      "[CV] ................................. , score=0.667703, total=  58.0s\n",
      "[CV]  ................................................................\n",
      "Fitting 10 folds for each of 7 candidates, totalling 70 fits\n"
     ]
    },
    {
     "name": "stderr",
     "output_type": "stream",
     "text": [
      "[Parallel(n_jobs=1)]: Done   3 out of   3 | elapsed:  2.8min remaining:    0.0s\n"
     ]
    },
    {
     "name": "stdout",
     "output_type": "stream",
     "text": [
      "[CV] linear_svm__C=0.001 .............................................\n",
      "[CV] linear_svm__C=0.001 .............................................\n",
      "[CV] linear_svm__C=0.001 .............................................\n",
      "[CV] linear_svm__C=0.001 .............................................\n",
      "[CV] .............. linear_svm__C=0.001, score=0.653254, total=   0.4s\n",
      "[CV] linear_svm__C=0.001 .............................................\n",
      "[CV] .............. linear_svm__C=0.001, score=0.655930, total=   0.6s\n",
      "[CV] .............. linear_svm__C=0.001, score=0.650611, total=   0.6s\n",
      "[CV] linear_svm__C=0.001 .............................................\n",
      "[CV] linear_svm__C=0.001 .............................................\n",
      "[CV] .............. linear_svm__C=0.001, score=0.661415, total=   0.7s\n",
      "[CV] linear_svm__C=0.001 .............................................\n",
      "[CV] .............. linear_svm__C=0.001, score=0.655883, total=   0.5s\n",
      "[CV] linear_svm__C=0.001 .............................................\n",
      "[CV] .............. linear_svm__C=0.001, score=0.659424, total=   0.4s\n",
      "[CV] linear_svm__C=0.001 .............................................\n"
     ]
    },
    {
     "name": "stderr",
     "output_type": "stream",
     "text": [
      "[Parallel(n_jobs=-1)]: Done   5 tasks      | elapsed:    1.3s\n"
     ]
    },
    {
     "name": "stdout",
     "output_type": "stream",
     "text": [
      "[CV] .............. linear_svm__C=0.001, score=0.661048, total=   0.5s\n",
      "[CV] .............. linear_svm__C=0.001, score=0.656843, total=   0.5s\n",
      "[CV] linear_svm__C=0.01 ..............................................\n",
      "[CV] linear_svm__C=0.01 ..............................................\n",
      "[CV] .............. linear_svm__C=0.001, score=0.665879, total=   0.6s\n",
      "[CV] linear_svm__C=0.01 ..............................................\n",
      "[CV] ............... linear_svm__C=0.01, score=0.658966, total=   0.5s\n",
      "[CV] linear_svm__C=0.01 ..............................................\n",
      "[CV] .............. linear_svm__C=0.001, score=0.680097, total=   0.8s\n"
     ]
    },
    {
     "name": "stderr",
     "output_type": "stream",
     "text": [
      "[Parallel(n_jobs=-1)]: Done  10 tasks      | elapsed:    2.2s\n"
     ]
    },
    {
     "name": "stdout",
     "output_type": "stream",
     "text": [
      "[CV] linear_svm__C=0.01 ..............................................\n",
      "[CV] ............... linear_svm__C=0.01, score=0.666228, total=   0.4s\n",
      "[CV] linear_svm__C=0.01 ..............................................\n",
      "[CV] ............... linear_svm__C=0.01, score=0.664470, total=   1.9s\n",
      "[CV] linear_svm__C=0.01 ..............................................\n",
      "[CV] ............... linear_svm__C=0.01, score=0.666351, total=   1.4s\n",
      "[CV] linear_svm__C=0.01 ..............................................\n",
      "[CV] ............... linear_svm__C=0.01, score=0.669888, total=   1.2s\n",
      "[CV] linear_svm__C=0.01 ..............................................\n",
      "[CV] ............... linear_svm__C=0.01, score=0.670965, total=   2.2s\n",
      "[CV] linear_svm__C=0.01 ..............................................\n",
      "[CV] ............... linear_svm__C=0.01, score=0.670086, total=   0.7s\n",
      "[CV] linear_svm__C=0.1 ...............................................\n",
      "[CV] ............... linear_svm__C=0.01, score=0.664082, total=   1.4s\n",
      "[CV] linear_svm__C=0.1 ...............................................\n"
     ]
    },
    {
     "name": "stderr",
     "output_type": "stream",
     "text": [
      "[Parallel(n_jobs=-1)]: Done  17 tasks      | elapsed:    5.0s\n"
     ]
    },
    {
     "name": "stdout",
     "output_type": "stream",
     "text": [
      "[CV] ............... linear_svm__C=0.01, score=0.666200, total=   2.0s\n",
      "[CV] linear_svm__C=0.1 ...............................................\n",
      "[CV] ............... linear_svm__C=0.01, score=0.687091, total=   2.4s\n",
      "[CV] linear_svm__C=0.1 ...............................................\n",
      "[CV] ................ linear_svm__C=0.1, score=0.664294, total=   3.3s\n",
      "[CV] linear_svm__C=0.1 ...............................................\n",
      "[CV] ................ linear_svm__C=0.1, score=0.660372, total=   3.3s\n",
      "[CV] linear_svm__C=0.1 ...............................................\n",
      "[CV] ................ linear_svm__C=0.1, score=0.673443, total=   3.5s\n",
      "[CV] linear_svm__C=0.1 ...............................................\n",
      "[CV] ................ linear_svm__C=0.1, score=0.667577, total=   3.3s\n",
      "[CV] linear_svm__C=0.1 ...............................................\n"
     ]
    },
    {
     "name": "stderr",
     "output_type": "stream",
     "text": [
      "[Parallel(n_jobs=-1)]: Done  24 tasks      | elapsed:   10.5s\n"
     ]
    },
    {
     "name": "stdout",
     "output_type": "stream",
     "text": [
      "[CV] ................ linear_svm__C=0.1, score=0.673627, total=   3.1s\n",
      "[CV] linear_svm__C=0.1 ...............................................\n",
      "[CV] ................ linear_svm__C=0.1, score=0.666751, total=   3.8s\n",
      "[CV] linear_svm__C=0.1 ...............................................\n",
      "[CV] ................ linear_svm__C=0.1, score=0.663870, total=   3.2s\n",
      "[CV] linear_svm__C=1 .................................................\n",
      "[CV] ................ linear_svm__C=0.1, score=0.667577, total=   3.2s\n",
      "[CV] linear_svm__C=1 .................................................\n",
      "[CV] ................ linear_svm__C=0.1, score=0.673650, total=   3.4s\n",
      "[CV] linear_svm__C=1 .................................................\n",
      "[CV] ................ linear_svm__C=0.1, score=0.686378, total=   3.4s\n",
      "[CV] linear_svm__C=1 .................................................\n",
      "[CV] .................. linear_svm__C=1, score=0.664089, total=   3.4s\n",
      "[CV] linear_svm__C=1 .................................................\n",
      "[CV] .................. linear_svm__C=1, score=0.659972, total=   3.3s\n",
      "[CV] linear_svm__C=1 .................................................\n",
      "[CV] .................. linear_svm__C=1, score=0.673637, total=   3.3s\n",
      "[CV] linear_svm__C=1 .................................................\n"
     ]
    },
    {
     "name": "stderr",
     "output_type": "stream",
     "text": [
      "[Parallel(n_jobs=-1)]: Done  33 tasks      | elapsed:   19.1s\n"
     ]
    },
    {
     "name": "stdout",
     "output_type": "stream",
     "text": [
      "[CV] .................. linear_svm__C=1, score=0.666591, total=   3.2s\n",
      "[CV] linear_svm__C=1 .................................................\n",
      "[CV] .................. linear_svm__C=1, score=0.666954, total=   3.4s\n",
      "[CV] linear_svm__C=1 .................................................\n",
      "[CV] .................. linear_svm__C=1, score=0.674623, total=   3.6s\n",
      "[CV] linear_svm__C=1 .................................................\n",
      "[CV] .................. linear_svm__C=1, score=0.664645, total=   3.5s\n",
      "[CV] linear_svm__C=10 ................................................\n",
      "[CV] .................. linear_svm__C=1, score=0.666581, total=   3.1s\n",
      "[CV] linear_svm__C=10 ................................................\n",
      "[CV] .................. linear_svm__C=1, score=0.674215, total=   3.2s\n",
      "[CV] linear_svm__C=10 ................................................\n",
      "[CV] .................. linear_svm__C=1, score=0.686735, total=   3.4s\n",
      "[CV] linear_svm__C=10 ................................................\n",
      "[CV] ................. linear_svm__C=10, score=0.659972, total=   2.9s\n",
      "[CV] linear_svm__C=10 ................................................\n",
      "[CV] ................. linear_svm__C=10, score=0.664089, total=   3.2s\n",
      "[CV] linear_svm__C=10 ................................................\n"
     ]
    },
    {
     "name": "stderr",
     "output_type": "stream",
     "text": [
      "[Parallel(n_jobs=-1)]: Done  42 tasks      | elapsed:   26.0s\n"
     ]
    },
    {
     "name": "stdout",
     "output_type": "stream",
     "text": [
      "[CV] ................. linear_svm__C=10, score=0.673637, total=   3.4s\n",
      "[CV] linear_svm__C=10 ................................................\n",
      "[CV] ................. linear_svm__C=10, score=0.666591, total=   3.0s\n",
      "[CV] linear_svm__C=10 ................................................\n",
      "[CV] ................. linear_svm__C=10, score=0.674623, total=   3.0s\n",
      "[CV] linear_svm__C=10 ................................................\n",
      "[CV] ................. linear_svm__C=10, score=0.666758, total=   3.7s\n",
      "[CV] linear_svm__C=10 ................................................\n",
      "[CV] ................. linear_svm__C=10, score=0.664645, total=   3.4s\n",
      "[CV] linear_svm__C=100 ...............................................\n",
      "[CV] ................. linear_svm__C=10, score=0.666777, total=   3.4s\n",
      "[CV] linear_svm__C=100 ...............................................\n",
      "[CV] ................. linear_svm__C=10, score=0.674215, total=   3.4s\n",
      "[CV] linear_svm__C=100 ...............................................\n",
      "[CV] ................. linear_svm__C=10, score=0.686735, total=   3.2s\n",
      "[CV] linear_svm__C=100 ...............................................\n",
      "[CV] ................ linear_svm__C=100, score=0.664089, total=   3.3s\n",
      "[CV] linear_svm__C=100 ...............................................\n",
      "[CV] ................ linear_svm__C=100, score=0.659972, total=   3.4s\n",
      "[CV] linear_svm__C=100 ...............................................\n",
      "[CV] ................ linear_svm__C=100, score=0.673637, total=   3.2s\n",
      "[CV] linear_svm__C=100 ...............................................\n",
      "[CV] ................ linear_svm__C=100, score=0.666591, total=   3.2s\n",
      "[CV] linear_svm__C=100 ...............................................\n"
     ]
    },
    {
     "name": "stderr",
     "output_type": "stream",
     "text": [
      "[Parallel(n_jobs=-1)]: Done  53 tasks      | elapsed:   36.0s\n"
     ]
    },
    {
     "name": "stdout",
     "output_type": "stream",
     "text": [
      "[CV] ................ linear_svm__C=100, score=0.666561, total=   3.7s\n",
      "[CV] linear_svm__C=100 ...............................................\n",
      "[CV] ................ linear_svm__C=100, score=0.674623, total=   3.2s\n",
      "[CV] linear_svm__C=100 ...............................................\n",
      "[CV] ................ linear_svm__C=100, score=0.664645, total=   2.9s\n",
      "[CV] linear_svm__C=1000 ..............................................\n",
      "[CV] ................ linear_svm__C=100, score=0.666777, total=   3.2s\n",
      "[CV] linear_svm__C=1000 ..............................................\n",
      "[CV] ................ linear_svm__C=100, score=0.674215, total=   3.0s\n",
      "[CV] linear_svm__C=1000 ..............................................\n",
      "[CV] ................ linear_svm__C=100, score=0.686735, total=   3.1s\n",
      "[CV] linear_svm__C=1000 ..............................................\n",
      "[CV] ............... linear_svm__C=1000, score=0.664089, total=   3.4s\n",
      "[CV] linear_svm__C=1000 ..............................................\n",
      "[CV] ............... linear_svm__C=1000, score=0.659972, total=   3.3s\n",
      "[CV] linear_svm__C=1000 ..............................................\n",
      "[CV] ............... linear_svm__C=1000, score=0.666591, total=   2.8s\n",
      "[CV] linear_svm__C=1000 ..............................................\n",
      "[CV] ............... linear_svm__C=1000, score=0.673637, total=   3.3s\n",
      "[CV] linear_svm__C=1000 ..............................................\n",
      "[CV] ............... linear_svm__C=1000, score=0.666561, total=   3.2s\n",
      "[CV] linear_svm__C=1000 ..............................................\n",
      "[CV] ............... linear_svm__C=1000, score=0.674819, total=   3.3s\n",
      "[CV] linear_svm__C=1000 ..............................................\n",
      "[CV] ............... linear_svm__C=1000, score=0.664645, total=   3.0s\n",
      "[CV] ............... linear_svm__C=1000, score=0.666777, total=   3.1s\n",
      "[CV] ............... linear_svm__C=1000, score=0.674215, total=   2.3s\n",
      "[CV] ............... linear_svm__C=1000, score=0.686735, total=   2.5s\n"
     ]
    },
    {
     "name": "stderr",
     "output_type": "stream",
     "text": [
      "[Parallel(n_jobs=-1)]: Done  70 out of  70 | elapsed:   48.8s finished\n"
     ]
    },
    {
     "name": "stdout",
     "output_type": "stream",
     "text": [
      "[CV] ................................. , score=0.667591, total=  50.4s\n",
      "[CV]  ................................................................\n",
      "Fitting 10 folds for each of 7 candidates, totalling 70 fits\n"
     ]
    },
    {
     "name": "stderr",
     "output_type": "stream",
     "text": [
      "[Parallel(n_jobs=1)]: Done   4 out of   4 | elapsed:  3.6min remaining:    0.0s\n"
     ]
    },
    {
     "name": "stdout",
     "output_type": "stream",
     "text": [
      "[CV] linear_svm__C=0.001 .............................................\n",
      "[CV] linear_svm__C=0.001 .............................................\n",
      "[CV] linear_svm__C=0.001 .............................................\n",
      "[CV] linear_svm__C=0.001 .............................................\n",
      "[CV] .............. linear_svm__C=0.001, score=0.653572, total=   0.5s\n",
      "[CV] linear_svm__C=0.001 .............................................\n",
      "[CV] .............. linear_svm__C=0.001, score=0.646669, total=   0.5s\n",
      "[CV] linear_svm__C=0.001 .............................................\n",
      "[CV] .............. linear_svm__C=0.001, score=0.661208, total=   0.4s\n",
      "[CV] linear_svm__C=0.001 .............................................\n",
      "[CV] .............. linear_svm__C=0.001, score=0.656075, total=   0.5s\n",
      "[CV] linear_svm__C=0.001 .............................................\n",
      "[CV] .............. linear_svm__C=0.001, score=0.656683, total=   0.4s\n",
      "[CV] linear_svm__C=0.001 .............................................\n",
      "[CV] .............. linear_svm__C=0.001, score=0.652211, total=   0.5s\n",
      "[CV] linear_svm__C=0.001 .............................................\n",
      "[CV] .............. linear_svm__C=0.001, score=0.651289, total=   0.5s\n"
     ]
    },
    {
     "name": "stderr",
     "output_type": "stream",
     "text": [
      "[Parallel(n_jobs=-1)]: Done   5 tasks      | elapsed:    1.3s\n"
     ]
    },
    {
     "name": "stdout",
     "output_type": "stream",
     "text": [
      "[CV] linear_svm__C=0.01 ..............................................\n",
      "[CV] .............. linear_svm__C=0.001, score=0.657268, total=   0.6s\n",
      "[CV] linear_svm__C=0.01 ..............................................\n",
      "[CV] .............. linear_svm__C=0.001, score=0.677027, total=   0.3s\n",
      "[CV] linear_svm__C=0.01 ..............................................\n",
      "[CV] .............. linear_svm__C=0.001, score=0.663975, total=   0.7s\n",
      "[CV] linear_svm__C=0.01 ..............................................\n"
     ]
    },
    {
     "name": "stderr",
     "output_type": "stream",
     "text": [
      "[Parallel(n_jobs=-1)]: Done  10 tasks      | elapsed:    2.2s\n"
     ]
    },
    {
     "name": "stdout",
     "output_type": "stream",
     "text": [
      "[CV] ............... linear_svm__C=0.01, score=0.667196, total=   0.7s\n",
      "[CV] linear_svm__C=0.01 ..............................................\n",
      "[CV] ............... linear_svm__C=0.01, score=0.657842, total=   1.7s\n",
      "[CV] linear_svm__C=0.01 ..............................................\n",
      "[CV] ............... linear_svm__C=0.01, score=0.661399, total=   2.4s\n",
      "[CV] linear_svm__C=0.01 ..............................................\n",
      "[CV] ............... linear_svm__C=0.01, score=0.666279, total=   2.3s\n",
      "[CV] linear_svm__C=0.01 ..............................................\n",
      "[CV] ............... linear_svm__C=0.01, score=0.660157, total=   2.0s\n",
      "[CV] linear_svm__C=0.01 ..............................................\n",
      "[CV] ............... linear_svm__C=0.01, score=0.668155, total=   2.3s\n",
      "[CV] linear_svm__C=0.01 ..............................................\n",
      "[CV] ............... linear_svm__C=0.01, score=0.659400, total=   2.1s\n",
      "[CV] linear_svm__C=0.1 ...............................................\n"
     ]
    },
    {
     "name": "stderr",
     "output_type": "stream",
     "text": [
      "[Parallel(n_jobs=-1)]: Done  17 tasks      | elapsed:    6.3s\n"
     ]
    },
    {
     "name": "stdout",
     "output_type": "stream",
     "text": [
      "[CV] ............... linear_svm__C=0.01, score=0.665054, total=   2.3s\n",
      "[CV] linear_svm__C=0.1 ...............................................\n",
      "[CV] ............... linear_svm__C=0.01, score=0.665925, total=   1.8s\n",
      "[CV] linear_svm__C=0.1 ...............................................\n",
      "[CV] ............... linear_svm__C=0.01, score=0.684651, total=   2.3s\n",
      "[CV] linear_svm__C=0.1 ...............................................\n",
      "[CV] ................ linear_svm__C=0.1, score=0.659427, total=   3.5s\n",
      "[CV] linear_svm__C=0.1 ...............................................\n",
      "[CV] ................ linear_svm__C=0.1, score=0.657459, total=   3.3s\n",
      "[CV] linear_svm__C=0.1 ...............................................\n",
      "[CV] ................ linear_svm__C=0.1, score=0.668797, total=   3.4s\n",
      "[CV] linear_svm__C=0.1 ...............................................\n",
      "[CV] ................ linear_svm__C=0.1, score=0.671280, total=   2.9s\n",
      "[CV] linear_svm__C=0.1 ...............................................\n"
     ]
    },
    {
     "name": "stderr",
     "output_type": "stream",
     "text": [
      "[Parallel(n_jobs=-1)]: Done  24 tasks      | elapsed:   11.3s\n"
     ]
    },
    {
     "name": "stdout",
     "output_type": "stream",
     "text": [
      "[CV] ................ linear_svm__C=0.1, score=0.663122, total=   3.1s\n",
      "[CV] linear_svm__C=0.1 ...............................................\n",
      "[CV] ................ linear_svm__C=0.1, score=0.660940, total=   2.8s\n",
      "[CV] linear_svm__C=0.1 ...............................................\n",
      "[CV] ................ linear_svm__C=0.1, score=0.670718, total=   3.5s\n",
      "[CV] linear_svm__C=1 .................................................\n",
      "[CV] ................ linear_svm__C=0.1, score=0.664270, total=   3.1s\n",
      "[CV] linear_svm__C=1 .................................................\n",
      "[CV] ................ linear_svm__C=0.1, score=0.683890, total=   2.8s\n",
      "[CV] ................ linear_svm__C=0.1, score=0.667071, total=   3.0s\n",
      "[CV] linear_svm__C=1 .................................................\n",
      "[CV] linear_svm__C=1 .................................................\n",
      "[CV] .................. linear_svm__C=1, score=0.659034, total=   3.8s\n",
      "[CV] linear_svm__C=1 .................................................\n",
      "[CV] .................. linear_svm__C=1, score=0.657050, total=   3.5s\n",
      "[CV] linear_svm__C=1 .................................................\n",
      "[CV] .................. linear_svm__C=1, score=0.669002, total=   4.1s\n",
      "[CV] linear_svm__C=1 .................................................\n",
      "[CV] .................. linear_svm__C=1, score=0.671074, total=   4.1s\n",
      "[CV] linear_svm__C=1 .................................................\n"
     ]
    },
    {
     "name": "stderr",
     "output_type": "stream",
     "text": [
      "[Parallel(n_jobs=-1)]: Done  33 tasks      | elapsed:   20.8s\n"
     ]
    },
    {
     "name": "stdout",
     "output_type": "stream",
     "text": [
      "[CV] .................. linear_svm__C=1, score=0.662527, total=   3.7s\n",
      "[CV] linear_svm__C=1 .................................................\n",
      "[CV] .................. linear_svm__C=1, score=0.670107, total=   3.9s\n",
      "[CV] linear_svm__C=1 .................................................\n",
      "[CV] .................. linear_svm__C=1, score=0.661523, total=   4.1s\n",
      "[CV] linear_svm__C=10 ................................................\n",
      "[CV] .................. linear_svm__C=1, score=0.664105, total=   4.4s\n",
      "[CV] linear_svm__C=10 ................................................\n",
      "[CV] .................. linear_svm__C=1, score=0.668031, total=   4.6s\n",
      "[CV] linear_svm__C=10 ................................................\n",
      "[CV] .................. linear_svm__C=1, score=0.684290, total=   4.9s\n",
      "[CV] linear_svm__C=10 ................................................\n",
      "[CV] ................. linear_svm__C=10, score=0.657459, total=   4.2s\n",
      "[CV] linear_svm__C=10 ................................................\n",
      "[CV] ................. linear_svm__C=10, score=0.658831, total=   4.7s\n",
      "[CV] linear_svm__C=10 ................................................\n"
     ]
    },
    {
     "name": "stderr",
     "output_type": "stream",
     "text": [
      "[Parallel(n_jobs=-1)]: Done  42 tasks      | elapsed:   30.1s\n"
     ]
    },
    {
     "name": "stdout",
     "output_type": "stream",
     "text": [
      "[CV] ................. linear_svm__C=10, score=0.669002, total=   4.0s\n",
      "[CV] linear_svm__C=10 ................................................\n",
      "[CV] ................. linear_svm__C=10, score=0.671074, total=   4.3s\n",
      "[CV] linear_svm__C=10 ................................................\n",
      "[CV] ................. linear_svm__C=10, score=0.661523, total=   3.3s\n",
      "[CV] linear_svm__C=10 ................................................\n",
      "[CV] ................. linear_svm__C=10, score=0.662332, total=   4.0s\n",
      "[CV] linear_svm__C=10 ................................................\n",
      "[CV] ................. linear_svm__C=10, score=0.670107, total=   4.1s\n",
      "[CV] linear_svm__C=100 ...............................................\n",
      "[CV] ................. linear_svm__C=10, score=0.664105, total=   4.3s\n",
      "[CV] linear_svm__C=100 ...............................................\n",
      "[CV] ................. linear_svm__C=10, score=0.668419, total=   4.1s\n",
      "[CV] linear_svm__C=100 ...............................................\n",
      "[CV] ................. linear_svm__C=10, score=0.684290, total=   4.5s\n",
      "[CV] linear_svm__C=100 ...............................................\n",
      "[CV] ................ linear_svm__C=100, score=0.658831, total=   4.5s\n",
      "[CV] linear_svm__C=100 ...............................................\n",
      "[CV] ................ linear_svm__C=100, score=0.657459, total=   4.6s\n",
      "[CV] linear_svm__C=100 ...............................................\n",
      "[CV] ................ linear_svm__C=100, score=0.669002, total=   4.8s\n",
      "[CV] linear_svm__C=100 ...............................................\n"
     ]
    },
    {
     "name": "stderr",
     "output_type": "stream",
     "text": [
      "[Parallel(n_jobs=-1)]: Done  53 tasks      | elapsed:   43.2s\n"
     ]
    },
    {
     "name": "stdout",
     "output_type": "stream",
     "text": [
      "[CV] ................ linear_svm__C=100, score=0.662332, total=   4.4s\n",
      "[CV] linear_svm__C=100 ...............................................\n",
      "[CV] ................ linear_svm__C=100, score=0.671074, total=   4.7s\n",
      "[CV] linear_svm__C=100 ...............................................\n",
      "[CV] ................ linear_svm__C=100, score=0.670107, total=   3.6s\n",
      "[CV] linear_svm__C=100 ...............................................\n",
      "[CV] ................ linear_svm__C=100, score=0.661523, total=   3.4s\n",
      "[CV] linear_svm__C=1000 ..............................................\n",
      "[CV] ................ linear_svm__C=100, score=0.664105, total=   3.1s\n",
      "[CV] linear_svm__C=1000 ..............................................\n",
      "[CV] ................ linear_svm__C=100, score=0.668419, total=   3.2s\n",
      "[CV] linear_svm__C=1000 ..............................................\n",
      "[CV] ................ linear_svm__C=100, score=0.684290, total=   3.5s\n",
      "[CV] linear_svm__C=1000 ..............................................\n",
      "[CV] ............... linear_svm__C=1000, score=0.657459, total=   3.1s\n",
      "[CV] linear_svm__C=1000 ..............................................\n",
      "[CV] ............... linear_svm__C=1000, score=0.658831, total=   3.3s\n",
      "[CV] linear_svm__C=1000 ..............................................\n",
      "[CV] ............... linear_svm__C=1000, score=0.669002, total=   3.5s\n",
      "[CV] linear_svm__C=1000 ..............................................\n",
      "[CV] ............... linear_svm__C=1000, score=0.671074, total=   3.4s\n",
      "[CV] linear_svm__C=1000 ..............................................\n",
      "[CV] ............... linear_svm__C=1000, score=0.662332, total=   3.0s\n",
      "[CV] linear_svm__C=1000 ..............................................\n",
      "[CV] ............... linear_svm__C=1000, score=0.670107, total=   3.3s\n",
      "[CV] linear_svm__C=1000 ..............................................\n",
      "[CV] ............... linear_svm__C=1000, score=0.661523, total=   3.0s\n",
      "[CV] ............... linear_svm__C=1000, score=0.664105, total=   2.8s\n",
      "[CV] ............... linear_svm__C=1000, score=0.668419, total=   2.3s\n",
      "[CV] ............... linear_svm__C=1000, score=0.684290, total=   2.0s\n"
     ]
    },
    {
     "name": "stderr",
     "output_type": "stream",
     "text": [
      "[Parallel(n_jobs=-1)]: Done  70 out of  70 | elapsed:   55.8s finished\n"
     ]
    },
    {
     "name": "stdout",
     "output_type": "stream",
     "text": [
      "[CV] ................................. , score=0.661202, total=  57.2s\n",
      "[CV]  ................................................................\n",
      "Fitting 10 folds for each of 7 candidates, totalling 70 fits\n"
     ]
    },
    {
     "name": "stderr",
     "output_type": "stream",
     "text": [
      "[Parallel(n_jobs=1)]: Done   5 out of   5 | elapsed:  4.6min remaining:    0.0s\n"
     ]
    },
    {
     "name": "stdout",
     "output_type": "stream",
     "text": [
      "[CV] linear_svm__C=0.001 .............................................\n",
      "[CV] linear_svm__C=0.001 .............................................\n",
      "[CV] linear_svm__C=0.001 .............................................\n",
      "[CV] linear_svm__C=0.001 .............................................\n",
      "[CV] .............. linear_svm__C=0.001, score=0.654963, total=   0.4s\n",
      "[CV] linear_svm__C=0.001 .............................................\n",
      "[CV] .............. linear_svm__C=0.001, score=0.647252, total=   0.4s\n",
      "[CV] linear_svm__C=0.001 .............................................\n",
      "[CV] .............. linear_svm__C=0.001, score=0.657263, total=   0.5s\n",
      "[CV] linear_svm__C=0.001 .............................................\n",
      "[CV] .............. linear_svm__C=0.001, score=0.662600, total=   0.5s\n",
      "[CV] linear_svm__C=0.001 .............................................\n",
      "[CV] .............. linear_svm__C=0.001, score=0.645992, total=   0.5s\n",
      "[CV] linear_svm__C=0.001 .............................................\n"
     ]
    },
    {
     "name": "stderr",
     "output_type": "stream",
     "text": [
      "[Parallel(n_jobs=-1)]: Done   5 tasks      | elapsed:    1.2s\n"
     ]
    },
    {
     "name": "stdout",
     "output_type": "stream",
     "text": [
      "[CV] .............. linear_svm__C=0.001, score=0.655088, total=   0.6s\n",
      "[CV] .............. linear_svm__C=0.001, score=0.652487, total=   0.5s\n",
      "[CV] linear_svm__C=0.001 .............................................\n",
      "[CV] linear_svm__C=0.01 ..............................................\n",
      "[CV] .............. linear_svm__C=0.001, score=0.657461, total=   0.5s\n",
      "[CV] linear_svm__C=0.01 ..............................................\n",
      "[CV] .............. linear_svm__C=0.001, score=0.663747, total=   0.4s\n",
      "[CV] linear_svm__C=0.01 ..............................................\n",
      "[CV] .............. linear_svm__C=0.001, score=0.677597, total=   0.5s\n",
      "[CV] linear_svm__C=0.01 ..............................................\n"
     ]
    },
    {
     "name": "stderr",
     "output_type": "stream",
     "text": [
      "[Parallel(n_jobs=-1)]: Done  10 tasks      | elapsed:    2.1s\n"
     ]
    },
    {
     "name": "stdout",
     "output_type": "stream",
     "text": [
      "[CV] ............... linear_svm__C=0.01, score=0.667772, total=   0.8s\n",
      "[CV] linear_svm__C=0.01 ..............................................\n",
      "[CV] ............... linear_svm__C=0.01, score=0.658268, total=   1.9s\n",
      "[CV] linear_svm__C=0.01 ..............................................\n",
      "[CV] ............... linear_svm__C=0.01, score=0.667633, total=   2.1s\n",
      "[CV] linear_svm__C=0.01 ..............................................\n",
      "[CV] ............... linear_svm__C=0.01, score=0.660831, total=   2.7s\n",
      "[CV] linear_svm__C=0.01 ..............................................\n",
      "[CV] ............... linear_svm__C=0.01, score=0.657995, total=   2.4s\n",
      "[CV] linear_svm__C=0.01 ..............................................\n",
      "[CV] ............... linear_svm__C=0.01, score=0.666595, total=   2.2s\n",
      "[CV] linear_svm__C=0.01 ..............................................\n",
      "[CV] ............... linear_svm__C=0.01, score=0.661557, total=   1.7s\n",
      "[CV] linear_svm__C=0.1 ...............................................\n"
     ]
    },
    {
     "name": "stderr",
     "output_type": "stream",
     "text": [
      "[Parallel(n_jobs=-1)]: Done  17 tasks      | elapsed:    6.0s\n"
     ]
    },
    {
     "name": "stdout",
     "output_type": "stream",
     "text": [
      "[CV] ............... linear_svm__C=0.01, score=0.664686, total=   2.7s\n",
      "[CV] linear_svm__C=0.1 ...............................................\n",
      "[CV] ............... linear_svm__C=0.01, score=0.667860, total=   2.4s\n",
      "[CV] linear_svm__C=0.1 ...............................................\n",
      "[CV] ............... linear_svm__C=0.01, score=0.683877, total=   2.7s\n",
      "[CV] linear_svm__C=0.1 ...............................................\n",
      "[CV] ................ linear_svm__C=0.1, score=0.660024, total=   3.0s\n",
      "[CV] linear_svm__C=0.1 ...............................................\n",
      "[CV] ................ linear_svm__C=0.1, score=0.659638, total=   3.3s\n",
      "[CV] linear_svm__C=0.1 ...............................................\n",
      "[CV] ................ linear_svm__C=0.1, score=0.670934, total=   3.4s\n",
      "[CV] linear_svm__C=0.1 ...............................................\n",
      "[CV] ................ linear_svm__C=0.1, score=0.659131, total=   2.8s\n",
      "[CV] linear_svm__C=0.1 ...............................................\n",
      "[CV] ................ linear_svm__C=0.1, score=0.672481, total=   3.3s\n",
      "[CV] linear_svm__C=0.1 ...............................................\n"
     ]
    },
    {
     "name": "stderr",
     "output_type": "stream",
     "text": [
      "[Parallel(n_jobs=-1)]: Done  24 tasks      | elapsed:   12.1s\n"
     ]
    },
    {
     "name": "stdout",
     "output_type": "stream",
     "text": [
      "[CV] ................ linear_svm__C=0.1, score=0.665976, total=   3.3s\n",
      "[CV] linear_svm__C=0.1 ...............................................\n",
      "[CV] ................ linear_svm__C=0.1, score=0.660940, total=   3.1s\n",
      "[CV] linear_svm__C=1 .................................................\n",
      "[CV] ................ linear_svm__C=0.1, score=0.669777, total=   2.8s\n",
      "[CV] linear_svm__C=1 .................................................\n",
      "[CV] ................ linear_svm__C=0.1, score=0.664890, total=   3.1s\n",
      "[CV] linear_svm__C=1 .................................................\n",
      "[CV] ................ linear_svm__C=0.1, score=0.683528, total=   3.1s\n",
      "[CV] linear_svm__C=1 .................................................\n",
      "[CV] .................. linear_svm__C=1, score=0.659834, total=   3.0s\n",
      "[CV] linear_svm__C=1 .................................................\n",
      "[CV] .................. linear_svm__C=1, score=0.660017, total=   3.3s\n",
      "[CV] linear_svm__C=1 .................................................\n",
      "[CV] .................. linear_svm__C=1, score=0.671724, total=   3.2s\n",
      "[CV] linear_svm__C=1 .................................................\n"
     ]
    },
    {
     "name": "stderr",
     "output_type": "stream",
     "text": [
      "[Parallel(n_jobs=-1)]: Done  33 tasks      | elapsed:   18.7s\n"
     ]
    },
    {
     "name": "stdout",
     "output_type": "stream",
     "text": [
      "[CV] .................. linear_svm__C=1, score=0.672859, total=   3.6s\n",
      "[CV] linear_svm__C=1 .................................................\n",
      "[CV] .................. linear_svm__C=1, score=0.665976, total=   2.7s\n",
      "[CV] linear_svm__C=1 .................................................\n",
      "[CV] .................. linear_svm__C=1, score=0.658550, total=   3.0s\n",
      "[CV] linear_svm__C=1 .................................................\n",
      "[CV] .................. linear_svm__C=1, score=0.661719, total=   3.3s\n",
      "[CV] linear_svm__C=10 ................................................\n",
      "[CV] .................. linear_svm__C=1, score=0.669158, total=   3.1s\n",
      "[CV] linear_svm__C=10 ................................................\n",
      "[CV] .................. linear_svm__C=1, score=0.666067, total=   3.6s\n",
      "[CV] linear_svm__C=10 ................................................\n",
      "[CV] .................. linear_svm__C=1, score=0.683308, total=   3.3s\n",
      "[CV] linear_svm__C=10 ................................................\n",
      "[CV] ................. linear_svm__C=10, score=0.660220, total=   3.5s\n",
      "[CV] linear_svm__C=10 ................................................\n",
      "[CV] ................. linear_svm__C=10, score=0.659834, total=   3.4s\n",
      "[CV] linear_svm__C=10 ................................................\n"
     ]
    },
    {
     "name": "stderr",
     "output_type": "stream",
     "text": [
      "[Parallel(n_jobs=-1)]: Done  42 tasks      | elapsed:   28.1s\n"
     ]
    },
    {
     "name": "stdout",
     "output_type": "stream",
     "text": [
      "[CV] ................. linear_svm__C=10, score=0.672665, total=   3.4s\n",
      "[CV] linear_svm__C=10 ................................................\n",
      "[CV] ................. linear_svm__C=10, score=0.671724, total=   3.7s\n",
      "[CV] linear_svm__C=10 ................................................\n",
      "[CV] ................. linear_svm__C=10, score=0.658550, total=   3.1s\n",
      "[CV] linear_svm__C=10 ................................................\n",
      "[CV] ................. linear_svm__C=10, score=0.665778, total=   3.4s\n",
      "[CV] linear_svm__C=10 ................................................\n",
      "[CV] ................. linear_svm__C=10, score=0.665871, total=   3.2s\n",
      "[CV] linear_svm__C=100 ...............................................\n",
      "[CV] ................. linear_svm__C=10, score=0.661523, total=   3.4s\n",
      "[CV] linear_svm__C=100 ...............................................\n",
      "[CV] ................. linear_svm__C=10, score=0.668964, total=   2.9s\n",
      "[CV] linear_svm__C=100 ...............................................\n",
      "[CV] ................ linear_svm__C=100, score=0.660220, total=   3.4s\n",
      "[CV] linear_svm__C=100 ...............................................\n",
      "[CV] ................. linear_svm__C=10, score=0.683308, total=   3.7s\n",
      "[CV] linear_svm__C=100 ...............................................\n",
      "[CV] ................ linear_svm__C=100, score=0.659834, total=   3.6s\n",
      "[CV] linear_svm__C=100 ...............................................\n",
      "[CV] ................ linear_svm__C=100, score=0.671724, total=   3.6s\n",
      "[CV] linear_svm__C=100 ...............................................\n"
     ]
    },
    {
     "name": "stderr",
     "output_type": "stream",
     "text": [
      "[Parallel(n_jobs=-1)]: Done  53 tasks      | elapsed:   36.0s\n"
     ]
    },
    {
     "name": "stdout",
     "output_type": "stream",
     "text": [
      "[CV] ................ linear_svm__C=100, score=0.665778, total=   3.1s\n",
      "[CV] linear_svm__C=100 ...............................................\n",
      "[CV] ................ linear_svm__C=100, score=0.672665, total=   3.5s\n",
      "[CV] linear_svm__C=100 ...............................................\n",
      "[CV] ................ linear_svm__C=100, score=0.658550, total=   3.5s\n",
      "[CV] linear_svm__C=100 ...............................................\n",
      "[CV] ................ linear_svm__C=100, score=0.661523, total=   3.4s\n",
      "[CV] linear_svm__C=1000 ..............................................\n",
      "[CV] ................ linear_svm__C=100, score=0.668964, total=   3.2s\n",
      "[CV] linear_svm__C=1000 ..............................................\n",
      "[CV] ................ linear_svm__C=100, score=0.666067, total=   3.4s\n",
      "[CV] linear_svm__C=1000 ..............................................\n",
      "[CV] ............... linear_svm__C=1000, score=0.660220, total=   3.2s\n",
      "[CV] linear_svm__C=1000 ..............................................\n",
      "[CV] ................ linear_svm__C=100, score=0.683321, total=   3.7s\n",
      "[CV] linear_svm__C=1000 ..............................................\n",
      "[CV] ............... linear_svm__C=1000, score=0.659834, total=   3.4s\n",
      "[CV] linear_svm__C=1000 ..............................................\n",
      "[CV] ............... linear_svm__C=1000, score=0.671724, total=   3.6s\n",
      "[CV] linear_svm__C=1000 ..............................................\n",
      "[CV] ............... linear_svm__C=1000, score=0.672665, total=   3.6s\n",
      "[CV] linear_svm__C=1000 ..............................................\n",
      "[CV] ............... linear_svm__C=1000, score=0.658550, total=   3.3s\n",
      "[CV] linear_svm__C=1000 ..............................................\n",
      "[CV] ............... linear_svm__C=1000, score=0.665778, total=   3.1s\n",
      "[CV] linear_svm__C=1000 ..............................................\n",
      "[CV] ............... linear_svm__C=1000, score=0.661523, total=   3.2s\n",
      "[CV] ............... linear_svm__C=1000, score=0.668964, total=   3.2s\n",
      "[CV] ............... linear_svm__C=1000, score=0.666067, total=   3.2s\n",
      "[CV] ............... linear_svm__C=1000, score=0.683321, total=   1.7s\n"
     ]
    },
    {
     "name": "stderr",
     "output_type": "stream",
     "text": [
      "[Parallel(n_jobs=-1)]: Done  70 out of  70 | elapsed:   50.8s finished\n"
     ]
    },
    {
     "name": "stdout",
     "output_type": "stream",
     "text": [
      "[CV] ................................. , score=0.669831, total=  52.2s\n",
      "[CV]  ................................................................\n",
      "Fitting 10 folds for each of 7 candidates, totalling 70 fits\n"
     ]
    },
    {
     "name": "stderr",
     "output_type": "stream",
     "text": [
      "[Parallel(n_jobs=1)]: Done   6 out of   6 | elapsed:  5.4min remaining:    0.0s\n"
     ]
    },
    {
     "name": "stdout",
     "output_type": "stream",
     "text": [
      "[CV] linear_svm__C=0.001 .............................................\n",
      "[CV] linear_svm__C=0.001 .............................................\n",
      "[CV] linear_svm__C=0.001 .............................................\n",
      "[CV] linear_svm__C=0.001 .............................................\n",
      "[CV] .............. linear_svm__C=0.001, score=0.656347, total=   0.4s\n",
      "[CV] linear_svm__C=0.001 .............................................\n",
      "[CV] .............. linear_svm__C=0.001, score=0.647850, total=   0.5s\n",
      "[CV] .............. linear_svm__C=0.001, score=0.658637, total=   0.5s\n",
      "[CV] .............. linear_svm__C=0.001, score=0.663557, total=   0.4s\n",
      "[CV] linear_svm__C=0.001 .............................................\n",
      "[CV] linear_svm__C=0.001 .............................................\n",
      "[CV] linear_svm__C=0.001 .............................................\n",
      "[CV] .............. linear_svm__C=0.001, score=0.647927, total=   0.6s\n",
      "[CV] linear_svm__C=0.001 .............................................\n",
      "[CV] .............. linear_svm__C=0.001, score=0.656043, total=   0.5s\n",
      "[CV] .............. linear_svm__C=0.001, score=0.655488, total=   0.4s\n",
      "[CV] linear_svm__C=0.001 .............................................\n",
      "[CV] linear_svm__C=0.01 ..............................................\n"
     ]
    },
    {
     "name": "stderr",
     "output_type": "stream",
     "text": [
      "[Parallel(n_jobs=-1)]: Done   5 tasks      | elapsed:    1.3s\n"
     ]
    },
    {
     "name": "stdout",
     "output_type": "stream",
     "text": [
      "[CV] .............. linear_svm__C=0.001, score=0.658447, total=   0.6s\n",
      "[CV] linear_svm__C=0.01 ..............................................\n",
      "[CV] .............. linear_svm__C=0.001, score=0.678174, total=   0.5s\n",
      "[CV] linear_svm__C=0.01 ..............................................\n",
      "[CV] .............. linear_svm__C=0.001, score=0.664134, total=   0.6s\n",
      "[CV] linear_svm__C=0.01 ..............................................\n"
     ]
    },
    {
     "name": "stderr",
     "output_type": "stream",
     "text": [
      "[Parallel(n_jobs=-1)]: Done  10 tasks      | elapsed:    2.1s\n"
     ]
    },
    {
     "name": "stdout",
     "output_type": "stream",
     "text": [
      "[CV] ............... linear_svm__C=0.01, score=0.658605, total=   0.6s\n",
      "[CV] linear_svm__C=0.01 ..............................................\n",
      "[CV] ............... linear_svm__C=0.01, score=0.662934, total=   0.9s\n",
      "[CV] linear_svm__C=0.01 ..............................................\n",
      "[CV] ............... linear_svm__C=0.01, score=0.669138, total=   0.4s\n",
      "[CV] linear_svm__C=0.01 ..............................................\n",
      "[CV] ............... linear_svm__C=0.01, score=0.660706, total=   0.8s\n",
      "[CV] linear_svm__C=0.01 ..............................................\n",
      "[CV] ............... linear_svm__C=0.01, score=0.669783, total=   1.2s\n",
      "[CV] linear_svm__C=0.01 ..............................................\n",
      "[CV] ............... linear_svm__C=0.01, score=0.667379, total=   1.1s\n",
      "[CV] linear_svm__C=0.01 ..............................................\n",
      "[CV] ............... linear_svm__C=0.01, score=0.668537, total=   0.7s\n",
      "[CV] linear_svm__C=0.1 ...............................................\n",
      "[CV] ............... linear_svm__C=0.01, score=0.667846, total=   1.6s\n",
      "[CV] linear_svm__C=0.1 ...............................................\n"
     ]
    },
    {
     "name": "stderr",
     "output_type": "stream",
     "text": [
      "[Parallel(n_jobs=-1)]: Done  17 tasks      | elapsed:    4.2s\n"
     ]
    },
    {
     "name": "stdout",
     "output_type": "stream",
     "text": [
      "[CV] ............... linear_svm__C=0.01, score=0.667382, total=   1.1s\n",
      "[CV] linear_svm__C=0.1 ...............................................\n",
      "[CV] ............... linear_svm__C=0.01, score=0.683751, total=   0.8s\n",
      "[CV] linear_svm__C=0.1 ...............................................\n",
      "[CV] ................ linear_svm__C=0.1, score=0.659396, total=   2.9s\n",
      "[CV] linear_svm__C=0.1 ...............................................\n",
      "[CV] ................ linear_svm__C=0.1, score=0.672399, total=   2.9s\n",
      "[CV] linear_svm__C=0.1 ...............................................\n",
      "[CV] ................ linear_svm__C=0.1, score=0.661580, total=   3.6s\n",
      "[CV] linear_svm__C=0.1 ...............................................\n",
      "[CV] ................ linear_svm__C=0.1, score=0.670934, total=   3.8s\n",
      "[CV] linear_svm__C=0.1 ...............................................\n"
     ]
    },
    {
     "name": "stderr",
     "output_type": "stream",
     "text": [
      "[Parallel(n_jobs=-1)]: Done  24 tasks      | elapsed:    8.5s\n"
     ]
    },
    {
     "name": "stdout",
     "output_type": "stream",
     "text": [
      "[CV] ................ linear_svm__C=0.1, score=0.661465, total=   3.2s\n",
      "[CV] linear_svm__C=0.1 ...............................................\n",
      "[CV] ................ linear_svm__C=0.1, score=0.667390, total=   3.8s\n",
      "[CV] linear_svm__C=0.1 ...............................................\n",
      "[CV] ................ linear_svm__C=0.1, score=0.668611, total=   3.9s\n",
      "[CV] linear_svm__C=1 .................................................\n",
      "[CV] ................ linear_svm__C=0.1, score=0.665036, total=   3.6s\n",
      "[CV] linear_svm__C=1 .................................................\n",
      "[CV] ................ linear_svm__C=0.1, score=0.669959, total=   2.9s\n",
      "[CV] linear_svm__C=1 .................................................\n",
      "[CV] .................. linear_svm__C=1, score=0.659006, total=   3.2s\n",
      "[CV] linear_svm__C=1 .................................................\n",
      "[CV] ................ linear_svm__C=0.1, score=0.685619, total=   4.0s\n",
      "[CV] linear_svm__C=1 .................................................\n",
      "[CV] .................. linear_svm__C=1, score=0.661776, total=   3.8s\n",
      "[CV] linear_svm__C=1 .................................................\n",
      "[CV] .................. linear_svm__C=1, score=0.671129, total=   3.6s\n",
      "[CV] linear_svm__C=1 .................................................\n"
     ]
    },
    {
     "name": "stderr",
     "output_type": "stream",
     "text": [
      "[Parallel(n_jobs=-1)]: Done  33 tasks      | elapsed:   17.6s\n"
     ]
    },
    {
     "name": "stdout",
     "output_type": "stream",
     "text": [
      "[CV] .................. linear_svm__C=1, score=0.673382, total=   3.6s\n",
      "[CV] .................. linear_svm__C=1, score=0.667790, total=   3.1s\n",
      "[CV] linear_svm__C=1 .................................................\n",
      "[CV] linear_svm__C=1 .................................................\n",
      "[CV] .................. linear_svm__C=1, score=0.661658, total=   3.4s\n",
      "[CV] linear_svm__C=1 .................................................\n",
      "[CV] .................. linear_svm__C=1, score=0.668816, total=   3.2s\n",
      "[CV] linear_svm__C=10 ................................................\n",
      "[CV] .................. linear_svm__C=1, score=0.664431, total=   2.9s\n",
      "[CV] linear_svm__C=10 ................................................\n",
      "[CV] .................. linear_svm__C=1, score=0.671315, total=   3.1s\n",
      "[CV] linear_svm__C=10 ................................................\n",
      "[CV] .................. linear_svm__C=1, score=0.684817, total=   3.3s\n",
      "[CV] linear_svm__C=10 ................................................\n",
      "[CV] ................. linear_svm__C=10, score=0.661776, total=   3.3s\n",
      "[CV] linear_svm__C=10 ................................................\n",
      "[CV] ................. linear_svm__C=10, score=0.659201, total=   3.3s\n",
      "[CV] linear_svm__C=10 ................................................\n",
      "[CV] ................. linear_svm__C=10, score=0.673382, total=   2.7s\n",
      "[CV] linear_svm__C=10 ................................................\n"
     ]
    },
    {
     "name": "stderr",
     "output_type": "stream",
     "text": [
      "[Parallel(n_jobs=-1)]: Done  42 tasks      | elapsed:   25.7s\n"
     ]
    },
    {
     "name": "stdout",
     "output_type": "stream",
     "text": [
      "[CV] ................. linear_svm__C=10, score=0.671324, total=   3.2s\n",
      "[CV] linear_svm__C=10 ................................................\n",
      "[CV] ................. linear_svm__C=10, score=0.661658, total=   3.3s\n",
      "[CV] linear_svm__C=10 ................................................\n",
      "[CV] ................. linear_svm__C=10, score=0.668816, total=   3.0s\n",
      "[CV] linear_svm__C=10 ................................................\n",
      "[CV] ................. linear_svm__C=10, score=0.667790, total=   3.5s\n",
      "[CV] linear_svm__C=100 ...............................................\n",
      "[CV] ................. linear_svm__C=10, score=0.664431, total=   3.3s\n",
      "[CV] linear_svm__C=100 ...............................................\n",
      "[CV] ................. linear_svm__C=10, score=0.671315, total=   3.1s\n",
      "[CV] linear_svm__C=100 ...............................................\n",
      "[CV] ................. linear_svm__C=10, score=0.684624, total=   3.3s\n",
      "[CV] linear_svm__C=100 ...............................................\n",
      "[CV] ................ linear_svm__C=100, score=0.659201, total=   3.6s\n",
      "[CV] linear_svm__C=100 ...............................................\n",
      "[CV] ................ linear_svm__C=100, score=0.661776, total=   4.0s\n",
      "[CV] linear_svm__C=100 ...............................................\n",
      "[CV] ................ linear_svm__C=100, score=0.671324, total=   5.1s\n",
      "[CV] linear_svm__C=100 ...............................................\n"
     ]
    },
    {
     "name": "stderr",
     "output_type": "stream",
     "text": [
      "[Parallel(n_jobs=-1)]: Done  53 tasks      | elapsed:   36.5s\n"
     ]
    },
    {
     "name": "stdout",
     "output_type": "stream",
     "text": [
      "[CV] ................ linear_svm__C=100, score=0.673382, total=   3.8s\n",
      "[CV] linear_svm__C=100 ...............................................\n",
      "[CV] ................ linear_svm__C=100, score=0.667790, total=   3.8s\n",
      "[CV] linear_svm__C=100 ...............................................\n",
      "[CV] ................ linear_svm__C=100, score=0.661658, total=   4.2s\n",
      "[CV] linear_svm__C=100 ...............................................\n",
      "[CV] ................ linear_svm__C=100, score=0.668816, total=   4.1s\n",
      "[CV] linear_svm__C=1000 ..............................................\n",
      "[CV] ................ linear_svm__C=100, score=0.664431, total=   3.8s\n",
      "[CV] linear_svm__C=1000 ..............................................\n",
      "[CV] ................ linear_svm__C=100, score=0.671315, total=   3.7s\n",
      "[CV] linear_svm__C=1000 ..............................................\n",
      "[CV] ................ linear_svm__C=100, score=0.684624, total=   4.1s\n",
      "[CV] linear_svm__C=1000 ..............................................\n",
      "[CV] ............... linear_svm__C=1000, score=0.661776, total=   3.4s\n",
      "[CV] linear_svm__C=1000 ..............................................\n",
      "[CV] ............... linear_svm__C=1000, score=0.659201, total=   3.8s\n",
      "[CV] linear_svm__C=1000 ..............................................\n",
      "[CV] ............... linear_svm__C=1000, score=0.671324, total=   3.4s\n",
      "[CV] linear_svm__C=1000 ..............................................\n",
      "[CV] ............... linear_svm__C=1000, score=0.673382, total=   3.0s\n",
      "[CV] linear_svm__C=1000 ..............................................\n",
      "[CV] ............... linear_svm__C=1000, score=0.661658, total=   3.1s\n",
      "[CV] linear_svm__C=1000 ..............................................\n",
      "[CV] ............... linear_svm__C=1000, score=0.667790, total=   2.9s\n",
      "[CV] linear_svm__C=1000 ..............................................\n",
      "[CV] ............... linear_svm__C=1000, score=0.664431, total=   2.8s\n",
      "[CV] ............... linear_svm__C=1000, score=0.668816, total=   3.5s\n",
      "[CV] ............... linear_svm__C=1000, score=0.671315, total=   1.9s\n",
      "[CV] ............... linear_svm__C=1000, score=0.684624, total=   1.8s\n"
     ]
    },
    {
     "name": "stderr",
     "output_type": "stream",
     "text": [
      "[Parallel(n_jobs=-1)]: Done  70 out of  70 | elapsed:   49.7s finished\n"
     ]
    },
    {
     "name": "stdout",
     "output_type": "stream",
     "text": [
      "[CV] ................................. , score=0.664106, total=  51.2s\n",
      "[CV]  ................................................................\n",
      "Fitting 10 folds for each of 7 candidates, totalling 70 fits\n"
     ]
    },
    {
     "name": "stderr",
     "output_type": "stream",
     "text": [
      "[Parallel(n_jobs=1)]: Done   7 out of   7 | elapsed:  6.3min remaining:    0.0s\n"
     ]
    },
    {
     "name": "stdout",
     "output_type": "stream",
     "text": [
      "[CV] linear_svm__C=0.001 .............................................\n",
      "[CV] linear_svm__C=0.001 .............................................\n",
      "[CV] linear_svm__C=0.001 .............................................\n",
      "[CV] linear_svm__C=0.001 .............................................\n",
      "[CV] .............. linear_svm__C=0.001, score=0.654172, total=   0.4s\n",
      "[CV] .............. linear_svm__C=0.001, score=0.646271, total=   0.4s\n",
      "[CV] linear_svm__C=0.001 .............................................\n",
      "[CV] linear_svm__C=0.001 .............................................\n",
      "[CV] .............. linear_svm__C=0.001, score=0.659627, total=   0.5s\n",
      "[CV] linear_svm__C=0.001 .............................................\n",
      "[CV] .............. linear_svm__C=0.001, score=0.657078, total=   0.6s\n",
      "[CV] linear_svm__C=0.001 .............................................\n",
      "[CV] .............. linear_svm__C=0.001, score=0.646965, total=   0.6s\n",
      "[CV] linear_svm__C=0.001 .............................................\n",
      "[CV] .............. linear_svm__C=0.001, score=0.652679, total=   0.5s\n",
      "[CV] linear_svm__C=0.001 .............................................\n"
     ]
    },
    {
     "name": "stderr",
     "output_type": "stream",
     "text": [
      "[Parallel(n_jobs=-1)]: Done   5 tasks      | elapsed:    1.3s\n"
     ]
    },
    {
     "name": "stdout",
     "output_type": "stream",
     "text": [
      "[CV] .............. linear_svm__C=0.001, score=0.657081, total=   0.5s\n",
      "[CV] linear_svm__C=0.01 ..............................................\n",
      "[CV] .............. linear_svm__C=0.001, score=0.656287, total=   0.6s\n",
      "[CV] linear_svm__C=0.01 ..............................................\n",
      "[CV] .............. linear_svm__C=0.001, score=0.662984, total=   0.4s\n",
      "[CV] linear_svm__C=0.01 ..............................................\n",
      "[CV] .............. linear_svm__C=0.001, score=0.677410, total=   0.6s\n",
      "[CV] linear_svm__C=0.01 ..............................................\n"
     ]
    },
    {
     "name": "stderr",
     "output_type": "stream",
     "text": [
      "[Parallel(n_jobs=-1)]: Done  10 tasks      | elapsed:    2.0s\n"
     ]
    },
    {
     "name": "stdout",
     "output_type": "stream",
     "text": [
      "[CV] ............... linear_svm__C=0.01, score=0.668758, total=   0.9s\n",
      "[CV] linear_svm__C=0.01 ..............................................\n",
      "[CV] ............... linear_svm__C=0.01, score=0.658464, total=   1.8s\n",
      "[CV] linear_svm__C=0.01 ..............................................\n",
      "[CV] ............... linear_svm__C=0.01, score=0.661972, total=   2.5s\n",
      "[CV] linear_svm__C=0.01 ..............................................\n",
      "[CV] ............... linear_svm__C=0.01, score=0.667624, total=   2.5s\n",
      "[CV] linear_svm__C=0.01 ..............................................\n",
      "[CV] ............... linear_svm__C=0.01, score=0.659584, total=   1.9s\n",
      "[CV] linear_svm__C=0.01 ..............................................\n",
      "[CV] ............... linear_svm__C=0.01, score=0.664628, total=   2.1s\n",
      "[CV] linear_svm__C=0.01 ..............................................\n",
      "[CV] ............... linear_svm__C=0.01, score=0.668732, total=   2.2s\n",
      "[CV] linear_svm__C=0.1 ...............................................\n",
      "[CV] ............... linear_svm__C=0.01, score=0.666128, total=   2.1s\n",
      "[CV] linear_svm__C=0.1 ...............................................\n"
     ]
    },
    {
     "name": "stderr",
     "output_type": "stream",
     "text": [
      "[Parallel(n_jobs=-1)]: Done  17 tasks      | elapsed:    6.6s\n"
     ]
    },
    {
     "name": "stdout",
     "output_type": "stream",
     "text": [
      "[CV] ............... linear_svm__C=0.01, score=0.668031, total=   1.8s\n",
      "[CV] linear_svm__C=0.1 ...............................................\n",
      "[CV] ............... linear_svm__C=0.01, score=0.683476, total=   2.9s\n",
      "[CV] linear_svm__C=0.1 ...............................................\n",
      "[CV] ................ linear_svm__C=0.1, score=0.657637, total=   3.5s\n",
      "[CV] linear_svm__C=0.1 ...............................................\n",
      "[CV] ................ linear_svm__C=0.1, score=0.658024, total=   4.3s\n",
      "[CV] linear_svm__C=0.1 ...............................................\n",
      "[CV] ................ linear_svm__C=0.1, score=0.669764, total=   4.4s\n",
      "[CV] linear_svm__C=0.1 ...............................................\n",
      "[CV] ................ linear_svm__C=0.1, score=0.672436, total=   3.3s\n",
      "[CV] linear_svm__C=0.1 ...............................................\n"
     ]
    },
    {
     "name": "stderr",
     "output_type": "stream",
     "text": [
      "[Parallel(n_jobs=-1)]: Done  24 tasks      | elapsed:   12.6s\n"
     ]
    },
    {
     "name": "stdout",
     "output_type": "stream",
     "text": [
      "[CV] ................ linear_svm__C=0.1, score=0.659918, total=   4.2s\n",
      "[CV] linear_svm__C=0.1 ...............................................\n",
      "[CV] ................ linear_svm__C=0.1, score=0.665820, total=   3.9s\n",
      "[CV] linear_svm__C=0.1 ...............................................\n",
      "[CV] ................ linear_svm__C=0.1, score=0.670725, total=   3.6s\n",
      "[CV] linear_svm__C=1 .................................................\n",
      "[CV] ................ linear_svm__C=0.1, score=0.665683, total=   3.3s\n",
      "[CV] linear_svm__C=1 .................................................\n",
      "[CV] ................ linear_svm__C=0.1, score=0.670021, total=   3.4s\n",
      "[CV] linear_svm__C=1 .................................................\n",
      "[CV] ................ linear_svm__C=0.1, score=0.683295, total=   3.2s\n",
      "[CV] linear_svm__C=1 .................................................\n",
      "[CV] .................. linear_svm__C=1, score=0.658810, total=   3.6s\n",
      "[CV] linear_svm__C=1 .................................................\n",
      "[CV] .................. linear_svm__C=1, score=0.657628, total=   3.6s\n",
      "[CV] linear_svm__C=1 .................................................\n",
      "[CV] .................. linear_svm__C=1, score=0.672630, total=   3.5s\n",
      "[CV] linear_svm__C=1 .................................................\n"
     ]
    },
    {
     "name": "stderr",
     "output_type": "stream",
     "text": [
      "[Parallel(n_jobs=-1)]: Done  33 tasks      | elapsed:   21.9s\n"
     ]
    },
    {
     "name": "stdout",
     "output_type": "stream",
     "text": [
      "[CV] .................. linear_svm__C=1, score=0.670544, total=   3.9s\n",
      "[CV] linear_svm__C=1 .................................................\n",
      "[CV] .................. linear_svm__C=1, score=0.659918, total=   3.9s\n",
      "[CV] linear_svm__C=1 .................................................\n",
      "[CV] .................. linear_svm__C=1, score=0.666017, total=   3.7s\n",
      "[CV] linear_svm__C=1 .................................................\n",
      "[CV] .................. linear_svm__C=1, score=0.670522, total=   3.6s\n",
      "[CV] linear_svm__C=10 ................................................\n",
      "[CV] .................. linear_svm__C=1, score=0.665879, total=   3.7s\n",
      "[CV] linear_svm__C=10 ................................................\n",
      "[CV] .................. linear_svm__C=1, score=0.670603, total=   3.2s\n",
      "[CV] linear_svm__C=10 ................................................\n",
      "[CV] .................. linear_svm__C=1, score=0.683489, total=   3.8s\n",
      "[CV] linear_svm__C=10 ................................................\n",
      "[CV] ................. linear_svm__C=10, score=0.659006, total=   3.6s\n",
      "[CV] linear_svm__C=10 ................................................\n",
      "[CV] ................. linear_svm__C=10, score=0.657619, total=   3.2s\n",
      "[CV] linear_svm__C=10 ................................................\n"
     ]
    },
    {
     "name": "stderr",
     "output_type": "stream",
     "text": [
      "[Parallel(n_jobs=-1)]: Done  42 tasks      | elapsed:   29.7s\n"
     ]
    },
    {
     "name": "stdout",
     "output_type": "stream",
     "text": [
      "[CV] ................. linear_svm__C=10, score=0.670739, total=   3.6s\n",
      "[CV] linear_svm__C=10 ................................................\n",
      "[CV] ................. linear_svm__C=10, score=0.672630, total=   3.5s\n",
      "[CV] linear_svm__C=10 ................................................\n",
      "[CV] ................. linear_svm__C=10, score=0.660125, total=   3.3s\n",
      "[CV] linear_svm__C=10 ................................................\n",
      "[CV] ................. linear_svm__C=10, score=0.670128, total=   2.9s\n",
      "[CV] linear_svm__C=10 ................................................\n",
      "[CV] ................. linear_svm__C=10, score=0.666017, total=   3.6s\n",
      "[CV] linear_svm__C=100 ...............................................\n",
      "[CV] ................. linear_svm__C=10, score=0.665683, total=   3.2s\n",
      "[CV] linear_svm__C=100 ...............................................\n",
      "[CV] ................. linear_svm__C=10, score=0.670603, total=   3.3s\n",
      "[CV] linear_svm__C=100 ...............................................\n",
      "[CV] ................ linear_svm__C=100, score=0.659006, total=   3.4s\n",
      "[CV] linear_svm__C=100 ...............................................\n",
      "[CV] ................. linear_svm__C=10, score=0.683489, total=   3.6s\n",
      "[CV] linear_svm__C=100 ...............................................\n",
      "[CV] ................ linear_svm__C=100, score=0.657619, total=   3.1s\n",
      "[CV] linear_svm__C=100 ...............................................\n",
      "[CV] ................ linear_svm__C=100, score=0.670544, total=   3.7s\n",
      "[CV] linear_svm__C=100 ...............................................\n"
     ]
    },
    {
     "name": "stderr",
     "output_type": "stream",
     "text": [
      "[Parallel(n_jobs=-1)]: Done  53 tasks      | elapsed:   40.0s\n"
     ]
    },
    {
     "name": "stdout",
     "output_type": "stream",
     "text": [
      "[CV] ................ linear_svm__C=100, score=0.660125, total=   3.1s\n",
      "[CV] linear_svm__C=100 ...............................................\n",
      "[CV] ................ linear_svm__C=100, score=0.672630, total=   3.3s\n",
      "[CV] linear_svm__C=100 ...............................................\n",
      "[CV] ................ linear_svm__C=100, score=0.666017, total=   3.6s\n",
      "[CV] linear_svm__C=100 ...............................................\n",
      "[CV] ................ linear_svm__C=100, score=0.670128, total=   3.7s\n",
      "[CV] linear_svm__C=1000 ..............................................\n",
      "[CV] ................ linear_svm__C=100, score=0.665683, total=   3.6s\n",
      "[CV] linear_svm__C=1000 ..............................................\n",
      "[CV] ................ linear_svm__C=100, score=0.670603, total=   3.6s\n",
      "[CV] linear_svm__C=1000 ..............................................\n",
      "[CV] ................ linear_svm__C=100, score=0.683489, total=   4.5s\n",
      "[CV] linear_svm__C=1000 ..............................................\n",
      "[CV] ............... linear_svm__C=1000, score=0.657619, total=   3.4s\n",
      "[CV] linear_svm__C=1000 ..............................................\n",
      "[CV] ............... linear_svm__C=1000, score=0.659006, total=   4.0s\n",
      "[CV] linear_svm__C=1000 ..............................................\n",
      "[CV] ............... linear_svm__C=1000, score=0.670544, total=   3.9s\n",
      "[CV] linear_svm__C=1000 ..............................................\n",
      "[CV] ............... linear_svm__C=1000, score=0.672630, total=   3.7s\n",
      "[CV] linear_svm__C=1000 ..............................................\n",
      "[CV] ............... linear_svm__C=1000, score=0.660125, total=   3.4s\n",
      "[CV] linear_svm__C=1000 ..............................................\n",
      "[CV] ............... linear_svm__C=1000, score=0.670128, total=   3.1s\n",
      "[CV] linear_svm__C=1000 ..............................................\n",
      "[CV] ............... linear_svm__C=1000, score=0.666017, total=   3.5s\n",
      "[CV] ............... linear_svm__C=1000, score=0.665683, total=   3.1s\n",
      "[CV] ............... linear_svm__C=1000, score=0.670603, total=   2.7s\n",
      "[CV] ............... linear_svm__C=1000, score=0.683489, total=   2.6s\n"
     ]
    },
    {
     "name": "stderr",
     "output_type": "stream",
     "text": [
      "[Parallel(n_jobs=-1)]: Done  70 out of  70 | elapsed:   54.1s finished\n"
     ]
    },
    {
     "name": "stdout",
     "output_type": "stream",
     "text": [
      "[CV] ................................. , score=0.659193, total=  55.7s\n",
      "[CV]  ................................................................\n",
      "Fitting 10 folds for each of 7 candidates, totalling 70 fits\n"
     ]
    },
    {
     "name": "stderr",
     "output_type": "stream",
     "text": [
      "[Parallel(n_jobs=1)]: Done   8 out of   8 | elapsed:  7.2min remaining:    0.0s\n"
     ]
    },
    {
     "name": "stdout",
     "output_type": "stream",
     "text": [
      "[CV] linear_svm__C=0.001 .............................................\n",
      "[CV] linear_svm__C=0.001 .............................................\n",
      "[CV] linear_svm__C=0.001 .............................................\n",
      "[CV] linear_svm__C=0.001 .............................................\n",
      "[CV] .............. linear_svm__C=0.001, score=0.653169, total=   0.5s\n",
      "[CV] .............. linear_svm__C=0.001, score=0.649928, total=   0.5s\n",
      "[CV] linear_svm__C=0.001 .............................................\n",
      "[CV] linear_svm__C=0.001 .............................................\n",
      "[CV] .............. linear_svm__C=0.001, score=0.659437, total=   0.4s\n",
      "[CV] .............. linear_svm__C=0.001, score=0.665354, total=   0.5s\n",
      "[CV] linear_svm__C=0.001 .............................................\n",
      "[CV] linear_svm__C=0.001 .............................................\n",
      "[CV] .............. linear_svm__C=0.001, score=0.647331, total=   0.5s\n",
      "[CV] linear_svm__C=0.001 .............................................\n",
      "[CV] .............. linear_svm__C=0.001, score=0.653483, total=   0.5s\n",
      "[CV] linear_svm__C=0.001 .............................................\n",
      "[CV] .............. linear_svm__C=0.001, score=0.656676, total=   0.5s\n",
      "[CV] .............. linear_svm__C=0.001, score=0.656287, total=   0.6s\n",
      "[CV] linear_svm__C=0.01 ..............................................\n",
      "[CV] linear_svm__C=0.01 ..............................................\n"
     ]
    },
    {
     "name": "stderr",
     "output_type": "stream",
     "text": [
      "[Parallel(n_jobs=-1)]: Done   5 tasks      | elapsed:    1.3s\n"
     ]
    },
    {
     "name": "stdout",
     "output_type": "stream",
     "text": [
      "[CV] .............. linear_svm__C=0.001, score=0.651065, total=   0.5s\n",
      "[CV] linear_svm__C=0.01 ..............................................\n",
      "[CV] .............. linear_svm__C=0.001, score=0.676226, total=   0.7s\n",
      "[CV] linear_svm__C=0.01 ..............................................\n"
     ]
    },
    {
     "name": "stderr",
     "output_type": "stream",
     "text": [
      "[Parallel(n_jobs=-1)]: Done  10 tasks      | elapsed:    2.3s\n"
     ]
    },
    {
     "name": "stdout",
     "output_type": "stream",
     "text": [
      "[CV] ............... linear_svm__C=0.01, score=0.671464, total=   0.7s\n",
      "[CV] linear_svm__C=0.01 ..............................................\n",
      "[CV] ............... linear_svm__C=0.01, score=0.658106, total=   1.6s\n",
      "[CV] linear_svm__C=0.01 ..............................................\n",
      "[CV] ............... linear_svm__C=0.01, score=0.661980, total=   3.1s\n",
      "[CV] linear_svm__C=0.01 ..............................................\n",
      "[CV] ............... linear_svm__C=0.01, score=0.669607, total=   2.6s\n",
      "[CV] linear_svm__C=0.01 ..............................................\n",
      "[CV] ............... linear_svm__C=0.01, score=0.658770, total=   1.9s\n",
      "[CV] linear_svm__C=0.01 ..............................................\n",
      "[CV] ............... linear_svm__C=0.01, score=0.665805, total=   2.3s\n",
      "[CV] linear_svm__C=0.01 ..............................................\n",
      "[CV] ............... linear_svm__C=0.01, score=0.660960, total=   1.6s\n",
      "[CV] linear_svm__C=0.1 ...............................................\n",
      "[CV] ............... linear_svm__C=0.01, score=0.669496, total=   2.0s\n"
     ]
    },
    {
     "name": "stderr",
     "output_type": "stream",
     "text": [
      "[Parallel(n_jobs=-1)]: Done  17 tasks      | elapsed:    6.6s\n"
     ]
    },
    {
     "name": "stdout",
     "output_type": "stream",
     "text": [
      "[CV] linear_svm__C=0.1 ...............................................\n",
      "[CV] ............... linear_svm__C=0.01, score=0.656888, total=   2.5s\n",
      "[CV] linear_svm__C=0.1 ...............................................\n",
      "[CV] ............... linear_svm__C=0.01, score=0.684122, total=   2.2s\n",
      "[CV] linear_svm__C=0.1 ...............................................\n",
      "[CV] ................ linear_svm__C=0.1, score=0.658627, total=   3.7s\n",
      "[CV] linear_svm__C=0.1 ...............................................\n",
      "[CV] ................ linear_svm__C=0.1, score=0.659325, total=   3.8s\n",
      "[CV] linear_svm__C=0.1 ...............................................\n",
      "[CV] ................ linear_svm__C=0.1, score=0.669754, total=   3.5s\n",
      "[CV] linear_svm__C=0.1 ...............................................\n",
      "[CV] ................ linear_svm__C=0.1, score=0.672035, total=   3.6s\n",
      "[CV] linear_svm__C=0.1 ...............................................\n"
     ]
    },
    {
     "name": "stderr",
     "output_type": "stream",
     "text": [
      "[Parallel(n_jobs=-1)]: Done  24 tasks      | elapsed:   11.9s\n"
     ]
    },
    {
     "name": "stdout",
     "output_type": "stream",
     "text": [
      "[CV] ................ linear_svm__C=0.1, score=0.666579, total=   3.5s\n",
      "[CV] linear_svm__C=0.1 ...............................................\n",
      "[CV] ................ linear_svm__C=0.1, score=0.658924, total=   3.9s\n",
      "[CV] linear_svm__C=0.1 ...............................................\n",
      "[CV] ................ linear_svm__C=0.1, score=0.661712, total=   2.7s\n",
      "[CV] linear_svm__C=1 .................................................\n",
      "[CV] ................ linear_svm__C=0.1, score=0.669728, total=   3.3s\n",
      "[CV] linear_svm__C=1 .................................................\n",
      "[CV] ................ linear_svm__C=0.1, score=0.684084, total=   3.2s\n",
      "[CV] linear_svm__C=1 .................................................\n",
      "[CV] ................ linear_svm__C=0.1, score=0.655883, total=   3.3s\n",
      "[CV] linear_svm__C=1 .................................................\n",
      "[CV] .................. linear_svm__C=1, score=0.659420, total=   3.1s\n",
      "[CV] linear_svm__C=1 .................................................\n",
      "[CV] .................. linear_svm__C=1, score=0.659120, total=   3.3s\n",
      "[CV] linear_svm__C=1 .................................................\n",
      "[CV] .................. linear_svm__C=1, score=0.669754, total=   3.0s\n",
      "[CV] linear_svm__C=1 .................................................\n",
      "[CV] .................. linear_svm__C=1, score=0.671635, total=   3.1s\n",
      "[CV] linear_svm__C=1 .................................................\n"
     ]
    },
    {
     "name": "stderr",
     "output_type": "stream",
     "text": [
      "[Parallel(n_jobs=-1)]: Done  33 tasks      | elapsed:   21.0s\n"
     ]
    },
    {
     "name": "stdout",
     "output_type": "stream",
     "text": [
      "[CV] .................. linear_svm__C=1, score=0.659725, total=   3.1s\n",
      "[CV] linear_svm__C=1 .................................................\n",
      "[CV] .................. linear_svm__C=1, score=0.666776, total=   3.6s\n",
      "[CV] linear_svm__C=1 .................................................\n",
      "[CV] .................. linear_svm__C=1, score=0.669721, total=   3.1s\n",
      "[CV] linear_svm__C=10 ................................................\n",
      "[CV] .................. linear_svm__C=1, score=0.661893, total=   3.1s\n",
      "[CV] linear_svm__C=10 ................................................\n",
      "[CV] .................. linear_svm__C=1, score=0.655679, total=   3.3s\n",
      "[CV] linear_svm__C=10 ................................................\n",
      "[CV] .................. linear_svm__C=1, score=0.684070, total=   3.5s\n",
      "[CV] linear_svm__C=10 ................................................\n",
      "[CV] ................. linear_svm__C=10, score=0.659316, total=   3.4s\n",
      "[CV] linear_svm__C=10 ................................................\n",
      "[CV] ................. linear_svm__C=10, score=0.659013, total=   3.4s\n",
      "[CV] linear_svm__C=10 ................................................\n",
      "[CV] ................. linear_svm__C=10, score=0.669754, total=   3.3s\n",
      "[CV] linear_svm__C=10 ................................................\n"
     ]
    },
    {
     "name": "stderr",
     "output_type": "stream",
     "text": [
      "[Parallel(n_jobs=-1)]: Done  42 tasks      | elapsed:   27.8s\n"
     ]
    },
    {
     "name": "stdout",
     "output_type": "stream",
     "text": [
      "[CV] ................. linear_svm__C=10, score=0.671635, total=   3.1s\n",
      "[CV] linear_svm__C=10 ................................................\n",
      "[CV] ................. linear_svm__C=10, score=0.659918, total=   2.8s\n",
      "[CV] linear_svm__C=10 ................................................\n",
      "[CV] ................. linear_svm__C=10, score=0.669721, total=   3.2s\n",
      "[CV] linear_svm__C=10 ................................................\n",
      "[CV] ................. linear_svm__C=10, score=0.666776, total=   3.6s\n",
      "[CV] linear_svm__C=100 ...............................................\n",
      "[CV] ................. linear_svm__C=10, score=0.662089, total=   2.8s\n",
      "[CV] linear_svm__C=100 ...............................................\n",
      "[CV] ................. linear_svm__C=10, score=0.655883, total=   3.1s\n",
      "[CV] linear_svm__C=100 ...............................................\n",
      "[CV] ................ linear_svm__C=100, score=0.659013, total=   3.1s\n",
      "[CV] linear_svm__C=100 ...............................................\n",
      "[CV] ................. linear_svm__C=10, score=0.684070, total=   3.7s\n",
      "[CV] linear_svm__C=100 ...............................................\n",
      "[CV] ................ linear_svm__C=100, score=0.659316, total=   3.0s\n",
      "[CV] linear_svm__C=100 ...............................................\n",
      "[CV] ................ linear_svm__C=100, score=0.669754, total=   3.5s\n",
      "[CV] linear_svm__C=100 ...............................................\n"
     ]
    },
    {
     "name": "stderr",
     "output_type": "stream",
     "text": [
      "[Parallel(n_jobs=-1)]: Done  53 tasks      | elapsed:   37.5s\n"
     ]
    },
    {
     "name": "stdout",
     "output_type": "stream",
     "text": [
      "[CV] ................ linear_svm__C=100, score=0.659918, total=   2.8s\n",
      "[CV] linear_svm__C=100 ...............................................\n",
      "[CV] ................ linear_svm__C=100, score=0.671635, total=   3.2s\n",
      "[CV] linear_svm__C=100 ...............................................\n",
      "[CV] ................ linear_svm__C=100, score=0.666776, total=   3.3s\n",
      "[CV] linear_svm__C=100 ...............................................\n",
      "[CV] ................ linear_svm__C=100, score=0.669721, total=   3.4s\n",
      "[CV] linear_svm__C=1000 ..............................................\n",
      "[CV] ................ linear_svm__C=100, score=0.662089, total=   3.0s\n",
      "[CV] linear_svm__C=1000 ..............................................\n",
      "[CV] ................ linear_svm__C=100, score=0.655883, total=   3.1s\n",
      "[CV] linear_svm__C=1000 ..............................................\n",
      "[CV] ................ linear_svm__C=100, score=0.684070, total=   3.5s\n",
      "[CV] linear_svm__C=1000 ..............................................\n",
      "[CV] ............... linear_svm__C=1000, score=0.659013, total=   3.4s\n",
      "[CV] linear_svm__C=1000 ..............................................\n",
      "[CV] ............... linear_svm__C=1000, score=0.659316, total=   3.3s\n",
      "[CV] linear_svm__C=1000 ..............................................\n",
      "[CV] ............... linear_svm__C=1000, score=0.669754, total=   3.5s\n",
      "[CV] linear_svm__C=1000 ..............................................\n",
      "[CV] ............... linear_svm__C=1000, score=0.671635, total=   3.0s\n",
      "[CV] linear_svm__C=1000 ..............................................\n",
      "[CV] ............... linear_svm__C=1000, score=0.666776, total=   3.1s\n",
      "[CV] linear_svm__C=1000 ..............................................\n",
      "[CV] ............... linear_svm__C=1000, score=0.659918, total=   3.5s\n",
      "[CV] linear_svm__C=1000 ..............................................\n",
      "[CV] ............... linear_svm__C=1000, score=0.662089, total=   2.8s\n",
      "[CV] ............... linear_svm__C=1000, score=0.669721, total=   3.4s\n",
      "[CV] ............... linear_svm__C=1000, score=0.655883, total=   1.9s\n",
      "[CV] ............... linear_svm__C=1000, score=0.684070, total=   1.9s\n"
     ]
    },
    {
     "name": "stderr",
     "output_type": "stream",
     "text": [
      "[Parallel(n_jobs=-1)]: Done  70 out of  70 | elapsed:   50.0s finished\n"
     ]
    },
    {
     "name": "stdout",
     "output_type": "stream",
     "text": [
      "[CV] ................................. , score=0.675728, total=  51.5s\n",
      "[CV]  ................................................................\n",
      "Fitting 10 folds for each of 7 candidates, totalling 70 fits\n"
     ]
    },
    {
     "name": "stderr",
     "output_type": "stream",
     "text": [
      "[Parallel(n_jobs=1)]: Done   9 out of   9 | elapsed:  8.1min remaining:    0.0s\n"
     ]
    },
    {
     "name": "stdout",
     "output_type": "stream",
     "text": [
      "[CV] linear_svm__C=0.001 .............................................\n",
      "[CV] linear_svm__C=0.001 .............................................\n",
      "[CV] linear_svm__C=0.001 .............................................\n",
      "[CV] linear_svm__C=0.001 .............................................\n",
      "[CV] .............. linear_svm__C=0.001, score=0.657855, total=   0.4s\n",
      "[CV] linear_svm__C=0.001 .............................................\n",
      "[CV] .............. linear_svm__C=0.001, score=0.654555, total=   0.5s\n",
      "[CV] .............. linear_svm__C=0.001, score=0.646159, total=   0.5s\n",
      "[CV] linear_svm__C=0.001 .............................................\n",
      "[CV] linear_svm__C=0.001 .............................................\n",
      "[CV] .............. linear_svm__C=0.001, score=0.664573, total=   0.6s\n",
      "[CV] linear_svm__C=0.001 .............................................\n",
      "[CV] .............. linear_svm__C=0.001, score=0.648348, total=   0.4s\n",
      "[CV] linear_svm__C=0.001 .............................................\n",
      "[CV] .............. linear_svm__C=0.001, score=0.655888, total=   0.4s\n",
      "[CV] linear_svm__C=0.001 .............................................\n",
      "[CV] .............. linear_svm__C=0.001, score=0.658870, total=   0.4s\n"
     ]
    },
    {
     "name": "stderr",
     "output_type": "stream",
     "text": [
      "[Parallel(n_jobs=-1)]: Done   5 tasks      | elapsed:    1.2s\n"
     ]
    },
    {
     "name": "stdout",
     "output_type": "stream",
     "text": [
      "[CV] linear_svm__C=0.01 ..............................................\n",
      "[CV] .............. linear_svm__C=0.001, score=0.654282, total=   0.7s\n",
      "[CV] linear_svm__C=0.01 ..............................................\n",
      "[CV] .............. linear_svm__C=0.001, score=0.655266, total=   0.5s\n",
      "[CV] linear_svm__C=0.01 ..............................................\n",
      "[CV] .............. linear_svm__C=0.001, score=0.665603, total=   0.5s\n",
      "[CV] linear_svm__C=0.01 ..............................................\n"
     ]
    },
    {
     "name": "stderr",
     "output_type": "stream",
     "text": [
      "[Parallel(n_jobs=-1)]: Done  10 tasks      | elapsed:    2.0s\n"
     ]
    },
    {
     "name": "stdout",
     "output_type": "stream",
     "text": [
      "[CV] ............... linear_svm__C=0.01, score=0.670880, total=   1.7s\n",
      "[CV] linear_svm__C=0.01 ..............................................\n",
      "[CV] ............... linear_svm__C=0.01, score=0.662934, total=   2.6s\n",
      "[CV] linear_svm__C=0.01 ..............................................\n",
      "[CV] ............... linear_svm__C=0.01, score=0.657946, total=   2.2s\n",
      "[CV] linear_svm__C=0.01 ..............................................\n",
      "[CV] ............... linear_svm__C=0.01, score=0.668788, total=   2.6s\n",
      "[CV] linear_svm__C=0.01 ..............................................\n",
      "[CV] ............... linear_svm__C=0.01, score=0.661286, total=   2.7s\n",
      "[CV] linear_svm__C=0.01 ..............................................\n",
      "[CV] ............... linear_svm__C=0.01, score=0.666381, total=   2.4s\n",
      "[CV] linear_svm__C=0.01 ..............................................\n",
      "[CV] ............... linear_svm__C=0.01, score=0.668325, total=   2.6s\n",
      "[CV] linear_svm__C=0.1 ...............................................\n",
      "[CV] ............... linear_svm__C=0.01, score=0.661727, total=   2.2s\n",
      "[CV] linear_svm__C=0.1 ...............................................\n"
     ]
    },
    {
     "name": "stderr",
     "output_type": "stream",
     "text": [
      "[Parallel(n_jobs=-1)]: Done  17 tasks      | elapsed:    6.9s\n"
     ]
    },
    {
     "name": "stdout",
     "output_type": "stream",
     "text": [
      "[CV] ............... linear_svm__C=0.01, score=0.672871, total=   2.2s\n",
      "[CV] linear_svm__C=0.1 ...............................................\n",
      "[CV] ............... linear_svm__C=0.01, score=0.661893, total=   2.7s\n",
      "[CV] linear_svm__C=0.1 ...............................................\n",
      "[CV] ................ linear_svm__C=0.1, score=0.658338, total=   3.3s\n",
      "[CV] linear_svm__C=0.1 ...............................................\n",
      "[CV] ................ linear_svm__C=0.1, score=0.659768, total=   3.6s\n",
      "[CV] linear_svm__C=0.1 ...............................................\n",
      "[CV] ................ linear_svm__C=0.1, score=0.671334, total=   3.3s\n",
      "[CV] linear_svm__C=0.1 ...............................................\n",
      "[CV] ................ linear_svm__C=0.1, score=0.674390, total=   3.1s\n",
      "[CV] linear_svm__C=0.1 ...............................................\n"
     ]
    },
    {
     "name": "stderr",
     "output_type": "stream",
     "text": [
      "[Parallel(n_jobs=-1)]: Done  24 tasks      | elapsed:   12.8s\n"
     ]
    },
    {
     "name": "stdout",
     "output_type": "stream",
     "text": [
      "[CV] ................ linear_svm__C=0.1, score=0.666590, total=   3.2s\n",
      "[CV] linear_svm__C=0.1 ...............................................\n",
      "[CV] ................ linear_svm__C=0.1, score=0.661823, total=   3.6s\n",
      "[CV] linear_svm__C=0.1 ...............................................\n",
      "[CV] ................ linear_svm__C=0.1, score=0.661312, total=   3.1s\n",
      "[CV] linear_svm__C=1 .................................................\n",
      "[CV] ................ linear_svm__C=0.1, score=0.672304, total=   3.6s\n",
      "[CV] linear_svm__C=1 .................................................\n",
      "[CV] ................ linear_svm__C=0.1, score=0.663435, total=   3.5s\n",
      "[CV] linear_svm__C=1 .................................................\n",
      "[CV] ................ linear_svm__C=0.1, score=0.674608, total=   3.4s\n",
      "[CV] linear_svm__C=1 .................................................\n",
      "[CV] .................. linear_svm__C=1, score=0.659579, total=   3.2s\n",
      "[CV] linear_svm__C=1 .................................................\n",
      "[CV] .................. linear_svm__C=1, score=0.658338, total=   3.5s\n",
      "[CV] linear_svm__C=1 .................................................\n",
      "[CV] .................. linear_svm__C=1, score=0.673977, total=   3.2s\n",
      "[CV] linear_svm__C=1 .................................................\n"
     ]
    },
    {
     "name": "stderr",
     "output_type": "stream",
     "text": [
      "[Parallel(n_jobs=-1)]: Done  33 tasks      | elapsed:   21.0s\n"
     ]
    },
    {
     "name": "stdout",
     "output_type": "stream",
     "text": [
      "[CV] .................. linear_svm__C=1, score=0.671139, total=   3.7s\n",
      "[CV] linear_svm__C=1 .................................................\n",
      "[CV] .................. linear_svm__C=1, score=0.661644, total=   3.4s\n",
      "[CV] linear_svm__C=1 .................................................\n",
      "[CV] .................. linear_svm__C=1, score=0.666584, total=   3.2s\n",
      "[CV] linear_svm__C=1 .................................................\n",
      "[CV] .................. linear_svm__C=1, score=0.672311, total=   3.4s\n",
      "[CV] linear_svm__C=10 ................................................\n",
      "[CV] .................. linear_svm__C=1, score=0.661493, total=   3.3s\n",
      "[CV] linear_svm__C=10 ................................................\n",
      "[CV] .................. linear_svm__C=1, score=0.663257, total=   3.5s\n",
      "[CV] linear_svm__C=10 ................................................\n",
      "[CV] .................. linear_svm__C=1, score=0.675191, total=   3.9s\n",
      "[CV] linear_svm__C=10 ................................................\n",
      "[CV] ................. linear_svm__C=10, score=0.659383, total=   4.1s\n",
      "[CV] linear_svm__C=10 ................................................\n",
      "[CV] ................. linear_svm__C=10, score=0.658338, total=   4.1s\n",
      "[CV] linear_svm__C=10 ................................................\n"
     ]
    },
    {
     "name": "stderr",
     "output_type": "stream",
     "text": [
      "[Parallel(n_jobs=-1)]: Done  42 tasks      | elapsed:   29.2s\n"
     ]
    },
    {
     "name": "stdout",
     "output_type": "stream",
     "text": [
      "[CV] ................. linear_svm__C=10, score=0.671139, total=   4.3s\n",
      "[CV] linear_svm__C=10 ................................................\n",
      "[CV] ................. linear_svm__C=10, score=0.673977, total=   4.2s\n",
      "[CV] linear_svm__C=10 ................................................\n",
      "[CV] ................. linear_svm__C=10, score=0.661837, total=   3.5s\n",
      "[CV] linear_svm__C=10 ................................................\n",
      "[CV] ................. linear_svm__C=10, score=0.666584, total=   3.4s\n",
      "[CV] linear_svm__C=10 ................................................\n",
      "[CV] ................. linear_svm__C=10, score=0.661493, total=   3.4s\n",
      "[CV] linear_svm__C=100 ...............................................\n",
      "[CV] ................. linear_svm__C=10, score=0.672311, total=   3.8s\n",
      "[CV] linear_svm__C=100 ...............................................\n",
      "[CV] ................. linear_svm__C=10, score=0.674996, total=   2.9s\n",
      "[CV] linear_svm__C=100 ...............................................\n",
      "[CV] ................. linear_svm__C=10, score=0.663257, total=   3.7s\n",
      "[CV] linear_svm__C=100 ...............................................\n",
      "[CV] ................ linear_svm__C=100, score=0.659383, total=   3.8s\n",
      "[CV] linear_svm__C=100 ...............................................\n",
      "[CV] ................ linear_svm__C=100, score=0.658338, total=   3.8s\n",
      "[CV] linear_svm__C=100 ...............................................\n",
      "[CV] ................ linear_svm__C=100, score=0.673977, total=   3.4s\n",
      "[CV] linear_svm__C=100 ...............................................\n",
      "[CV] ................ linear_svm__C=100, score=0.671139, total=   4.2s\n",
      "[CV] linear_svm__C=100 ...............................................\n"
     ]
    },
    {
     "name": "stderr",
     "output_type": "stream",
     "text": [
      "[Parallel(n_jobs=-1)]: Done  53 tasks      | elapsed:   40.0s\n"
     ]
    },
    {
     "name": "stdout",
     "output_type": "stream",
     "text": [
      "[CV] ................ linear_svm__C=100, score=0.666584, total=   3.3s\n",
      "[CV] linear_svm__C=100 ...............................................\n",
      "[CV] ................ linear_svm__C=100, score=0.661837, total=   3.9s\n",
      "[CV] linear_svm__C=100 ...............................................\n",
      "[CV] ................ linear_svm__C=100, score=0.661493, total=   3.4s\n",
      "[CV] linear_svm__C=1000 ..............................................\n",
      "[CV] ................ linear_svm__C=100, score=0.672311, total=   3.8s\n",
      "[CV] linear_svm__C=1000 ..............................................\n",
      "[CV] ................ linear_svm__C=100, score=0.674996, total=   5.0s\n",
      "[CV] linear_svm__C=1000 ..............................................\n",
      "[CV] ................ linear_svm__C=100, score=0.663257, total=   6.0s\n",
      "[CV] linear_svm__C=1000 ..............................................\n",
      "[CV] ............... linear_svm__C=1000, score=0.659383, total=   5.0s\n",
      "[CV] linear_svm__C=1000 ..............................................\n",
      "[CV] ............... linear_svm__C=1000, score=0.658338, total=   5.4s\n",
      "[CV] linear_svm__C=1000 ..............................................\n",
      "[CV] ............... linear_svm__C=1000, score=0.673977, total=   4.1s\n",
      "[CV] linear_svm__C=1000 ..............................................\n",
      "[CV] ............... linear_svm__C=1000, score=0.661837, total=   4.0s\n",
      "[CV] linear_svm__C=1000 ..............................................\n",
      "[CV] ............... linear_svm__C=1000, score=0.671139, total=   4.8s\n",
      "[CV] linear_svm__C=1000 ..............................................\n",
      "[CV] ............... linear_svm__C=1000, score=0.666584, total=   4.6s\n",
      "[CV] linear_svm__C=1000 ..............................................\n",
      "[CV] ............... linear_svm__C=1000, score=0.672311, total=   3.9s\n",
      "[CV] ............... linear_svm__C=1000, score=0.661493, total=   4.0s\n",
      "[CV] ............... linear_svm__C=1000, score=0.663257, total=   4.1s\n",
      "[CV] ............... linear_svm__C=1000, score=0.674996, total=   3.3s\n"
     ]
    },
    {
     "name": "stderr",
     "output_type": "stream",
     "text": [
      "[Parallel(n_jobs=-1)]: Done  70 out of  70 | elapsed:   57.9s finished\n"
     ]
    },
    {
     "name": "stdout",
     "output_type": "stream",
     "text": [
      "[CV] ................................. , score=0.681819, total=  59.8s\n",
      "##### Generalization F1 Score: mean = 0.667330992787 std = 0.00671589397452\n",
      "\n"
     ]
    },
    {
     "name": "stderr",
     "output_type": "stream",
     "text": [
      "[Parallel(n_jobs=1)]: Done  10 out of  10 | elapsed:  9.1min finished\n"
     ]
    }
   ],
   "source": [
    "linear_svm_pipe = Pipeline([('variance', VarianceThreshold()),\n",
    "                            ('scaler', StandardScaler()),\n",
    "                            ('linear_svm', LinearSVC(penalty='l1', dual=False, random_state=123456, class_weight='balanced'))])\n",
    "\n",
    "param_grid = dict()\n",
    "param_grid['linear_svm__C'] = [0.001, 0.01, 0.1, 1, 10, 100, 1000]\n",
    "\n",
    "inner_cv = StratifiedKFold(n_splits=10, random_state=975428)\n",
    "outer_cv = StratifiedKFold(n_splits=10, random_state=248733)\n",
    "\n",
    "gs_cv = GridSearchCV(linear_svm_pipe, param_grid=param_grid, n_jobs=-1, scoring='f1_weighted', cv=inner_cv, verbose=10)\n",
    "\n",
    "linear_svm_nested_cv_f1_scores = cross_val_score(gs_cv, X, y, cv=outer_cv, verbose=10)\n",
    "\n",
    "joblib.dump(linear_svm_nested_cv_f1_scores, data_type + '_linear_svm_nested_cv_f1_scores.pkl', compress=1)\n",
    "\n",
    "print(\"##### Generalization F1 Score: mean =\", np.mean(linear_svm_nested_cv_f1_scores), \"std =\", np.std(linear_svm_nested_cv_f1_scores))\n",
    "print()\n",
    "\n",
    "##### Enriched: Generalization F1 Score: mean = 0.667330992787 std = 0.00671589397452"
   ]
  },
  {
   "cell_type": "code",
   "execution_count": null,
   "metadata": {
    "collapsed": false,
    "scrolled": true
   },
   "outputs": [],
   "source": [
    "rf_pipe = Pipeline([('variance', VarianceThreshold()),\n",
    "                            ('scaler', StandardScaler()),\n",
    "                            ('rf', RandomForestClassifier(max_features='sqrt', oob_score=True, random_state=573146, class_weight='balanced'))])\n",
    "\n",
    "param_grid = dict()\n",
    "param_grid['rf__n_estimators'] = list(range(200, 1200, 150))\n",
    "param_grid['rf__max_depth'] = [10, 20, 30]\n",
    "param_grid['rf__min_samples_leaf'] = [50, 60, 70, 80, 90, 100]\n",
    "\n",
    "\n",
    "inner_cv = StratifiedKFold(n_splits=10, random_state=975428)\n",
    "outer_cv = StratifiedKFold(n_splits=10, random_state=248733)\n",
    "\n",
    "gs_cv = GridSearchCV(rf_pipe, param_grid=param_grid, n_jobs=-1, scoring='f1_weighted', cv=inner_cv, verbose=10)\n",
    "\n",
    "rf_nested_cv_f1_scores = cross_val_score(gs_cv, X, y, cv=outer_cv, verbose=10)\n",
    "\n",
    "joblib.dump(rf_nested_cv_f1_scores, 'rf_nested_cv_f1_scores.pkl', compress=1)\n",
    "\n",
    "print(\"##### Generalization F1 Score: mean =\", np.mean(rf_nested_cv_f1_scores), \"std =\", np.std(rf_nested_cv_f1_scores))\n",
    "print()"
   ]
  },
  {
   "cell_type": "code",
   "execution_count": null,
   "metadata": {
    "collapsed": true
   },
   "outputs": [],
   "source": [
    "# Function to plot boxplot of nested cross-validation scores.\n",
    "def plot_cv_scores(cv_scores):\n",
    "    print(cv_scores)\n",
    "    print()\n",
    "    \n",
    "    sns.set_style(\"whitegrid\")\n",
    "    \n",
    "    ax = sns.boxplot(x=cv_scores, orient=\"v\")\n",
    "    \n",
    "    plt.ylim(0, 1)\n",
    "    \n",
    "    plt.show()"
   ]
  },
  {
   "cell_type": "code",
   "execution_count": null,
   "metadata": {
    "collapsed": false
   },
   "outputs": [],
   "source": [
    "lr_nested_cv_f1_scores = joblib.load(data_type + '_lr_nested_cv_f1_scores.pkl')\n",
    "\n",
    "plot_cv_scores(lr_nested_cv_f1_scores)"
   ]
  },
  {
   "cell_type": "code",
   "execution_count": null,
   "metadata": {
    "collapsed": true
   },
   "outputs": [],
   "source": [
    "def plot_variable_ranking(model, model_type, column_names):\n",
    "    if model_type == \"rf\":\n",
    "        importance = model.feature_importances_\n",
    "        importance = pd.DataFrame(importance, index=column_names, columns=[\"Importance\"])\n",
    "        importance[\"Std\"] = np.std([tree.feature_importances_ for tree in model.estimators_], axis=0)\n",
    "        \n",
    "        x = range(importance.shape[0])\n",
    "        y = importance.ix[:, 0]        \n",
    "        yerr = importance.ix[:, 1]\n",
    "        \n",
    "        plt.bar(x, y, yerr=yerr, align=\"center\")\n",
    "        plt.xticks(range(len(column_names)), column_names)\n",
    "        plt.show()\n",
    "    elif model_type == \"lr\":\n",
    "        importance = model.coef_\n",
    "        importance = pd.DataFrame(importance, index=column_names, columns=[\"Importance\"])\n",
    "        \n",
    "        x = range(importance.shape[0])\n",
    "        y = importance.ix[:, 0]        \n",
    "        \n",
    "        plt.bar(x, y, align=\"center\")\n",
    "        plt.xticks(range(len(column_names)), column_names)\n",
    "        plt.show()"
   ]
  },
  {
   "cell_type": "code",
   "execution_count": null,
   "metadata": {
    "collapsed": false
   },
   "outputs": [],
   "source": [
    "pca_lr_pipe = Pipeline([('variance', VarianceThreshold()),\n",
    "                    ('scaler', StandardScaler()),\n",
    "                    ('pca', PCA(random_state=554197)),\n",
    "                    ('lr', LogisticRegression(class_weight='balanced', random_state=621473))])\n",
    "\n",
    "param_grid = dict()\n",
    "param_grid['lr__C'] = [0.001, 0.01, 0.1, 1, 10, 100, 1000]\n",
    "param_grid['pca__n_components'] = list(range(2, 14, 2))\n",
    "\n",
    "inner_cv = StratifiedKFold(n_splits=10, random_state=975428)\n",
    "outer_cv = StratifiedKFold(n_splits=10, random_state=248733)\n",
    "\n",
    "gs_cv = GridSearchCV(pca_lr_pipe, param_grid=param_grid, n_jobs=-1, scoring='f1_weighted', cv=inner_cv, verbose=10)\n",
    "\n",
    "pca_lr_nested_cv_f1_scores = cross_val_score(gs_cv, X, y, cv=outer_cv, verbose=10)\n",
    "\n",
    "joblib.dump(pca_lr_nested_cv_f1_scores, data_type + '_pca_lr_nested_cv_f1_scores.pkl', compress=1)\n",
    "\n",
    "print(\"##### Generalization F1 Score: mean =\", np.mean(pca_lr_nested_cv_f1_scores), \"std =\", np.std(pca_lr_nested_cv_f1_scores))\n",
    "print\n",
    "\n",
    "##### Encoded:   Generalization F1 Score: mean = 0.660731584574 std = 0.00561434867445\n",
    "##### Binarized: Generalization F1 Score: mean = 0.655650138449 std = 0.00599611460643\n",
    "##### Enriched:  Generalization F1 Score: mean = 0.667960467816 std = 0.00757189854774"
   ]
  },
  {
   "cell_type": "code",
   "execution_count": null,
   "metadata": {
    "collapsed": false
   },
   "outputs": [],
   "source": [
    "pca_lr_nested_cv_f1_scores = joblib.load(data_type + '_pca_lr_nested_cv_f1_scores.pkl')\n",
    "\n",
    "plot_cv_scores(pca_lr_nested_cv_f1_scores)"
   ]
  },
  {
   "cell_type": "code",
   "execution_count": null,
   "metadata": {
    "collapsed": false,
    "scrolled": true
   },
   "outputs": [],
   "source": [
    "rfe_lr_pipe = Pipeline([('variance', VarianceThreshold()),\n",
    "                    ('scaler', StandardScaler()),\n",
    "                    ('rfe', RFE(LogisticRegression(class_weight='balanced', random_state=348744), step=4)),\n",
    "                    ('lr', LogisticRegression(class_weight='balanced', random_state=621473))])\n",
    "\n",
    "param_grid = dict()\n",
    "param_grid['lr__C'] = [0.001, 0.01, 0.1, 1, 10, 100, 1000]\n",
    "param_grid['rfe__n_features_to_select'] = list(range(5, 18, 5))\n",
    "param_grid['rfe__estimator__C'] = [0.1, 1, 10]\n",
    "\n",
    "inner_cv = StratifiedKFold(n_splits=10, random_state=975428)\n",
    "outer_cv = StratifiedKFold(n_splits=10, random_state=248733)\n",
    "\n",
    "gs_cv = GridSearchCV(rfe_lr_pipe, param_grid=param_grid, n_jobs=-1, scoring='f1_weighted', cv=inner_cv, verbose=10)\n",
    "\n",
    "rfe_lr_nested_cv_f1_scores = cross_val_score(gs_cv, X, y, cv=outer_cv, verbose=10)\n",
    "\n",
    "joblib.dump(rfe_lr_nested_cv_f1_scores, data_type + '_rfe_lr_nested_cv_f1_scores.pkl', compress=1)\n",
    "\n",
    "print(\"##### Generalization F1 Score: mean =\", np.mean(rfe_lr_nested_cv_f1_scores), \"std =\", np.std(rfe_lr_nested_cv_f1_scores))\n",
    "print()\n",
    "\n",
    "##### Encoded:   Generalization F1 Score: mean = 0.681933347276 std = 0.0138063133181\n",
    "##### Binarized: Generalization F1 Score: mean = 0.661206281182 std = 0.00693543250238\n",
    "##### Enriched:  Generalization F1 Score: mean = 0.685667061666 std = 0.00621622857699"
   ]
  },
  {
   "cell_type": "code",
   "execution_count": null,
   "metadata": {
    "collapsed": false
   },
   "outputs": [],
   "source": [
    "rfe_lr_nested_cv_f1_scores = joblib.load(data_type + '_rfe_lr_nested_cv_f1_scores.pkl')\n",
    "\n",
    "plot_cv_scores(rfe_lr_nested_cv_f1_scores)"
   ]
  }
 ],
 "metadata": {
  "kernelspec": {
   "display_name": "Python 3",
   "language": "python",
   "name": "python3"
  },
  "language_info": {
   "codemirror_mode": {
    "name": "ipython",
    "version": 3
   },
   "file_extension": ".py",
   "mimetype": "text/x-python",
   "name": "python",
   "nbconvert_exporter": "python",
   "pygments_lexer": "ipython3",
   "version": "3.6.0"
  }
 },
 "nbformat": 4,
 "nbformat_minor": 2
}
