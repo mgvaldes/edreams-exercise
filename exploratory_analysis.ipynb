{
 "cells": [
  {
   "cell_type": "code",
   "execution_count": null,
   "metadata": {},
   "outputs": [],
   "source": [
    "# Import libraries\n",
    "import pandas as pd\n",
    "import numpy as np\n",
    "import seaborn as sns\n",
    "import matplotlib.pyplot as plt\n",
    "from datetime import datetime, timedelta\n",
    "\n",
    "%matplotlib inline"
   ]
  },
  {
   "cell_type": "code",
   "execution_count": null,
   "metadata": {},
   "outputs": [],
   "source": [
    "# Load cleaned data\n",
    "data = pd.read_csv('clean_encoded_train.csv', sep=';', decimal='.')"
   ]
  },
  {
   "cell_type": "code",
   "execution_count": null,
   "metadata": {
    "collapsed": false
   },
   "outputs": [],
   "source": [
    "data.shape"
   ]
  },
  {
   "cell_type": "code",
   "execution_count": null,
   "metadata": {},
   "outputs": [],
   "source": [
    "data.columns"
   ]
  },
  {
   "cell_type": "code",
   "execution_count": null,
   "metadata": {},
   "outputs": [],
   "source": [
    "# 'WEBSITE', 'DEVICE', 'HAUL_TYPE', 'TRIP_TYPE' and 'PRODUCT' \n",
    "numeric_columns = ['TIMESTAMP', 'GDS', 'DEPARTURE', 'ARRIVAL', 'ADULTS',\n",
    "                   'CHILDREN', 'INFANTS', 'DISTANCE','NO_GDS']\n",
    "data[numeric_columns].describe()"
   ]
  },
  {
   "cell_type": "code",
   "execution_count": null,
   "metadata": {},
   "outputs": [],
   "source": [
    "sns.countplot(x=\"WEBSITE\", hue=\"EXTRA_BAGGAGE\", data=data)\n",
    "\n",
    "plt.rcParams[\"figure.figsize\"] = (20, 8)\n",
    "plt.rcParams[\"xtick.labelsize\"] = 9\n",
    "\n",
    "plt.show()"
   ]
  },
  {
   "cell_type": "code",
   "execution_count": null,
   "metadata": {},
   "outputs": [],
   "source": [
    "# sns.countplot(x=\"DEVICE\", hue=\"EXTRA_BAGGAGE\", data=data)\n",
    "\n",
    "ct = pd.crosstab(data.DEVICE, data.EXTRA_BAGGAGE)\n",
    "\n",
    "ct.plot.barh(stacked=True)\n",
    "plt.legend(title='EXTRA_BAGGAGE')\n",
    "\n",
    "plt.rcParams[\"figure.figsize\"] = (8, 4)\n",
    "plt.rcParams[\"xtick.labelsize\"] = 9\n",
    "\n",
    "plt.show()"
   ]
  },
  {
   "cell_type": "code",
   "execution_count": null,
   "metadata": {
    "collapsed": false
   },
   "outputs": [],
   "source": [
    "# sns.countplot(x=\"HAUL_TYPE\", hue=\"EXTRA_BAGGAGE\", data=data)\n",
    "\n",
    "ct = pd.crosstab(data.HAUL_TYPE, data.EXTRA_BAGGAGE)\n",
    "\n",
    "ct.plot.barh(stacked=True)\n",
    "plt.legend(title='EXTRA_BAGGAGE')\n",
    "\n",
    "plt.rcParams[\"figure.figsize\"] = (8, 4)\n",
    "plt.rcParams[\"xtick.labelsize\"] = 9\n",
    "\n",
    "plt.show()"
   ]
  },
  {
   "cell_type": "code",
   "execution_count": null,
   "metadata": {
    "collapsed": false
   },
   "outputs": [],
   "source": [
    "# sns.countplot(x=\"HAUL_TYPE\", hue=\"EXTRA_BAGGAGE\", data=data)\n",
    "\n",
    "ct = pd.crosstab(data.WEBSITE, data.EXTRA_BAGGAGE)\n",
    "\n",
    "ct.plot.barh(stacked=True)\n",
    "plt.legend(title='EXTRA_BAGGAGE')\n",
    "\n",
    "plt.rcParams[\"figure.figsize\"] = (20, 20)\n",
    "plt.rcParams[\"xtick.labelsize\"] = 9\n",
    "\n",
    "plt.show()"
   ]
  },
  {
   "cell_type": "code",
   "execution_count": null,
   "metadata": {
    "collapsed": false
   },
   "outputs": [],
   "source": [
    "# sns.countplot(x=\"TRIP_TYPE\", hue=\"EXTRA_BAGGAGE\", data=data)\n",
    "\n",
    "ct = pd.crosstab(data.TRIP_TYPE, data.EXTRA_BAGGAGE)\n",
    "\n",
    "ct.plot.barh(stacked=True)\n",
    "plt.legend(title='EXTRA_BAGGAGE')\n",
    "\n",
    "plt.rcParams[\"figure.figsize\"] = (8, 4)\n",
    "plt.rcParams[\"xtick.labelsize\"] = 9\n",
    "\n",
    "plt.show()"
   ]
  },
  {
   "cell_type": "code",
   "execution_count": null,
   "metadata": {
    "collapsed": false
   },
   "outputs": [],
   "source": [
    "# sns.countplot(x=\"PRODUCT\", hue=\"EXTRA_BAGGAGE\", data=data)\n",
    "\n",
    "ct = pd.crosstab(data.PRODUCT, data.EXTRA_BAGGAGE)\n",
    "\n",
    "ct.plot.barh(stacked=True)\n",
    "plt.legend(title='EXTRA_BAGGAGE')\n",
    "\n",
    "plt.rcParams[\"figure.figsize\"] = (8, 4)\n",
    "plt.rcParams[\"xtick.labelsize\"] = 9\n",
    "\n",
    "plt.show()\n",
    "\n",
    "plt.show()"
   ]
  },
  {
   "cell_type": "code",
   "execution_count": null,
   "metadata": {
    "collapsed": false
   },
   "outputs": [],
   "source": [
    "sns.distplot(data['DISTANCE'])\n",
    "\n",
    "plt.show()"
   ]
  },
  {
   "cell_type": "code",
   "execution_count": null,
   "metadata": {},
   "outputs": [],
   "source": [
    "sns.distplot(data['DISTANCE'][data['EXTRA_BAGGAGE'] == True])\n",
    "\n",
    "plt.show()"
   ]
  },
  {
   "cell_type": "code",
   "execution_count": null,
   "metadata": {},
   "outputs": [],
   "source": [
    "sns.distplot(data['DISTANCE'][data['EXTRA_BAGGAGE'] == False])\n",
    "\n",
    "plt.show()"
   ]
  },
  {
   "cell_type": "code",
   "execution_count": null,
   "metadata": {},
   "outputs": [],
   "source": [
    "sns.boxplot(x=\"EXTRA_BAGGAGE\", y=\"DISTANCE\", data=data)\n",
    "\n",
    "plt.show()"
   ]
  },
  {
   "cell_type": "code",
   "execution_count": null,
   "metadata": {},
   "outputs": [],
   "source": [
    "# Load original data\n",
    "original_data = pd.read_csv('train.csv', sep=';', decimal=',')"
   ]
  },
  {
   "cell_type": "code",
   "execution_count": null,
   "metadata": {},
   "outputs": [],
   "source": [
    "# We'll enrich the dataset with new variables that may contribute to increase the model's\n",
    "# performance.\n",
    "\n",
    "# We'll add a variable called 'TRIP_DAYS' that will be created using the 'DEPARTURE' and \n",
    "# 'ARRIVAL' variables. It will represent the duration in days of the trip.\n",
    "def calculate_trip_days(row):\n",
    "    departure_date = datetime.strptime(row['DEPARTURE'] + \"/2017\", '%d/%B/%Y')\n",
    "    arrival_date = datetime.strptime(row['ARRIVAL'] + \"/2017\", '%d/%B/%Y')\n",
    "    \n",
    "    if arrival_date.month < departure_date.month:\n",
    "        arrival_date = datetime.strptime(row['ARRIVAL'] + \"/2018\", '%d/%B/%Y')\n",
    "    \n",
    "    trip_days = arrival_date - departure_date\n",
    "    \n",
    "    return trip_days.days\n",
    "\n",
    "trip_days = original_data.apply(lambda row: calculate_trip_days(row), axis=1)\n",
    "trip_days = trip_days[pd.notnull(original_data['DEVICE'])]\n",
    "trip_days = trip_days.reset_index(drop=True)\n",
    "\n",
    "data['TRIP_DAYS'] = trip_days"
   ]
  },
  {
   "cell_type": "code",
   "execution_count": null,
   "metadata": {},
   "outputs": [],
   "source": [
    "# We'll add a variable called 'PLANNING_DAYS' that will be created using the 'TIMESTAMP' and \n",
    "# 'DEPARTURE' variables. It will represent how many days ahead of the departure date, the trip\n",
    "# was planned, starting from the day the plain tickets were bought.\n",
    "def calculate_planning_days(row):\n",
    "    buy_date = datetime.strptime(row['TIMESTAMP'] + \"/2017\", '%d/%B/%Y')\n",
    "    departure_date = datetime.strptime(row['DEPARTURE'] + \"/2017\", '%d/%B/%Y')\n",
    "    \n",
    "    if departure_date.month < buy_date.month:\n",
    "        departure_date = datetime.strptime(row['DEPARTURE'] + \"/2018\", '%d/%B/%Y')\n",
    "    \n",
    "    planning_days = departure_date - buy_date\n",
    "    \n",
    "    return planning_days.days\n",
    "\n",
    "planning_days = original_data.apply(lambda row: calculate_planning_days(row), axis=1)\n",
    "planning_days = planning_days[pd.notnull(original_data['DEVICE'])]\n",
    "planning_days = planning_days.reset_index(drop=True)\n",
    "\n",
    "data['PLANNING_DAYS'] = planning_days"
   ]
  },
  {
   "cell_type": "code",
   "execution_count": null,
   "metadata": {},
   "outputs": [],
   "source": [
    "# We'll add a variable called 'WEEKEND_DAYS' that will be created using the 'DEPARTURE' and \n",
    "# 'ARRIVAL' variables. It will represent how many wekkend days are included in the duration\n",
    "# of the trip.\n",
    "def calculate_weekend_days(row):\n",
    "    aux = datetime.strptime(row['DEPARTURE'] + \"/2017\", '%d/%B/%Y')\n",
    "    arrival_date = datetime.strptime(row['ARRIVAL'] + \"/2017\", '%d/%B/%Y')\n",
    "    \n",
    "    if arrival_date.month < aux.month:\n",
    "        arrival_date = datetime.strptime(row['ARRIVAL'] + \"/2018\", '%d/%B/%Y')\n",
    "    \n",
    "    weekend_days = 0\n",
    "    \n",
    "    while (aux <= arrival_date):\n",
    "        if (aux.weekday() > 4):\n",
    "            weekend_days += 1\n",
    "            \n",
    "        aux = aux + timedelta(days=1)\n",
    "    \n",
    "    return weekend_days\n",
    "\n",
    "weekend_days = original_data.apply(lambda row: calculate_weekend_days(row), axis=1)\n",
    "weekend_days = weekend_days[pd.notnull(original_data['DEVICE'])]\n",
    "weekend_days = weekend_days.reset_index(drop=True)\n",
    "\n",
    "data['WEEKEND_DAYS'] = weekend_days"
   ]
  },
  {
   "cell_type": "code",
   "execution_count": null,
   "metadata": {
    "collapsed": false
   },
   "outputs": [],
   "source": [
    "# Regional - anything less than an hour.\n",
    "# Short Haul - 1 hour up to 3 or 4 hours.\n",
    "# Medium Haul - 4 up to 6 or 7 hours.\n",
    "# Long Haul - 7 to about 14 or 15 hours.\n",
    "# Ultra Long Haul - anything over 15 hours non stop. \n",
    "def flight_duration(duration):\n",
    "    if duration < 1:\n",
    "        return 0 # REGIONAL\n",
    "    elif duration >= 1 and duration < 4:\n",
    "        return 1 # SHORT\n",
    "    elif duration >= 4 and duration < 7:\n",
    "        return 2 # MEDIUM\n",
    "    elif duration >= 7 and duration < 15:\n",
    "        return 3 # LONG\n",
    "    else:\n",
    "        return 4 # ULTRA LONG\n",
    "\n",
    "typical_cruise_speed = 902\n",
    "\n",
    "duration = data['DISTANCE']/typical_cruise_speed\n",
    "\n",
    "duration = duration.apply(flight_duration)\n",
    "\n",
    "data['DURATION'] = duration"
   ]
  },
  {
   "cell_type": "code",
   "execution_count": null,
   "metadata": {
    "collapsed": true
   },
   "outputs": [],
   "source": [
    "def custom_trip_type(row):\n",
    "    if row['WEEKEND_DAYS'] == 0 and row['ADULTS'] < 3 and row['CHILDREN'] == 0 or row['INFANTS'] == 0:\n",
    "        return 0 # WORK\n",
    "    elif row['WEEKEND_DAYS'] > 0 and row['ADULTS'] > 0 and (row['CHILDREN'] > 0 or row['INFANTS'] > 0):\n",
    "        return 1 # FAMILY VACATIONS\n",
    "    elif row['WEEKEND_DAYS'] > 0 and row['ADULTS'] == 2 and row['CHILDREN'] == 0 or row['INFANTS'] == 0:\n",
    "        return 2 # COUPLE VACATIONS\n",
    "    else:\n",
    "        return 3 # OTHER\n",
    "    \n",
    "trip_type = data.apply(lambda row: custom_trip_type(row), axis=1)\n",
    "\n",
    "data['CUSTOM_TRIP_TYPE'] = trip_type"
   ]
  },
  {
   "cell_type": "code",
   "execution_count": null,
   "metadata": {
    "collapsed": false
   },
   "outputs": [],
   "source": [
    "sns.countplot(x=\"DURATION\", hue=\"EXTRA_BAGGAGE\", data=data)\n",
    "\n",
    "plt.show()"
   ]
  },
  {
   "cell_type": "code",
   "execution_count": null,
   "metadata": {
    "collapsed": false
   },
   "outputs": [],
   "source": [
    "data.shape"
   ]
  },
  {
   "cell_type": "code",
   "execution_count": null,
   "metadata": {
    "collapsed": false
   },
   "outputs": [],
   "source": [
    "print(data.isnull().sum())"
   ]
  },
  {
   "cell_type": "code",
   "execution_count": null,
   "metadata": {},
   "outputs": [],
   "source": [
    "# Store 'new_vars' dataset into new .csv file\n",
    "data.to_csv('cleaned_enriched2_train.csv', index=False, sep=';')"
   ]
  },
  {
   "cell_type": "code",
   "execution_count": null,
   "metadata": {},
   "outputs": [],
   "source": [
    "def plot_correlation_heatmap(data):\n",
    "    # Compute the correlation matrix\n",
    "    corr = data.corr()\n",
    "\n",
    "    # Generate a mask for the upper triangle\n",
    "    mask = np.zeros_like(corr, dtype=np.bool)\n",
    "    mask[np.triu_indices_from(mask)] = True\n",
    "\n",
    "    # Set up the matplotlib figure\n",
    "    f, ax = plt.subplots(figsize=(11, 9))\n",
    "\n",
    "    # Generate a custom diverging colormap\n",
    "    cmap = sns.diverging_palette(220, 10, as_cmap=True)\n",
    "\n",
    "    # Draw the heatmap with the mask and correct aspect ratio\n",
    "    sns.heatmap(corr, mask=mask, cmap=cmap, vmax=.3, center=0, square=True, linewidths=.5, cbar_kws={\"shrink\": .5})\n",
    "    \n",
    "    plt.show()"
   ]
  },
  {
   "cell_type": "code",
   "execution_count": null,
   "metadata": {},
   "outputs": [],
   "source": [
    "plot_correlation_heatmap(data.drop('EXTRA_BAGGAGE', 1))"
   ]
  }
 ],
 "metadata": {
  "kernelspec": {
   "display_name": "Python 3",
   "language": "python",
   "name": "python3"
  },
  "language_info": {
   "codemirror_mode": {
    "name": "ipython",
    "version": 3
   },
   "file_extension": ".py",
   "mimetype": "text/x-python",
   "name": "python",
   "nbconvert_exporter": "python",
   "pygments_lexer": "ipython3",
   "version": "3.5.2"
  }
 },
 "nbformat": 4,
 "nbformat_minor": 2
}
